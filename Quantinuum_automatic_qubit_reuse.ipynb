{
 "cells": [
  {
   "cell_type": "markdown",
   "id": "ec6ca471",
   "metadata": {},
   "source": [
    "<div style=\"text-align: center;\">\n",
    "<img src=\"https://assets-global.website-files.com/62b9d45fb3f64842a96c9686/62d84db4aeb2f6552f3a2f78_Quantinuum%20Logo__horizontal%20blue.svg\" width=\"200\" height=\"200\" /></div>"
   ]
  },
  {
   "cell_type": "markdown",
   "id": "dec6d056",
   "metadata": {},
   "source": [
    "# Qubit Reuse Compilation\n",
    "\n",
    "This notebook contains an overview of how to use the `pyqubit_reuse` package. This package provides a `pytket` compiler pass for applying the compilation strategy for reducing the number of qubits in a quantum circuit as detailed in [Qubit-reuse compilation with mid-circuit measurement and reset](https://journals.aps.org/prx/abstract/10.1103/PhysRevX.13.041057) by Matthew DeCross, Eli Chertkov, Megan Kohagen and Michael Foss-Feig.\n",
    "\n",
    "`pytket` is a python module for interfacing with `TKET`, a quantum computing toolkit and optimisation compiler developed by Quantinuum, and is available through `pip`. `pytket` is open source and documentation and examples can be found in the [pytket examples](https://tket.quantinuum.com/examples/) and in the *examples* folder in the [pytket-quantinuum Github repository](https://github.com/CQCL/pytket-quantinuum).\n",
    "\n",
    "* [Setup Nexus Project](#Setup-Nexus-Project)\n",
    "* [How to Cite](#How-to-Cite)\n",
    "* [Simple Example](#Simple-Example)\n",
    "* [Demonstrating Compilation with Qubit Reuse for QAOA Circuits](#Demonstrating-Compilation-with-Qubit-Reuse-for-QAOA-Circuits)\n",
    "* [Additional Ordering Methods](#additional-ordering-methods)"
   ]
  },
  {
   "cell_type": "markdown",
   "id": "9167ee29",
   "metadata": {},
   "source": [
    "## How to Cite\n",
    "\n",
    "If you wish to cite the `pyqubit_reuse` package in any academic publications, we recommend citing our paper [Qubit-reuse compilation with mid-circuit measurement and reset](https://journals.aps.org/prx/abstract/10.1103/PhysRevX.13.041057)."
   ]
  },
  {
   "cell_type": "markdown",
   "id": "ec689fb2",
   "metadata": {},
   "source": [
    "## Setup Nexus Project"
   ]
  },
  {
   "cell_type": "markdown",
   "id": "1619b02f",
   "metadata": {},
   "source": [
    "Nexus enables access to H-Series. An existing project is activated, **Qubit-Reuse-Demonstration**."
   ]
  },
  {
   "cell_type": "code",
   "execution_count": null,
   "id": "8dd9a1f4",
   "metadata": {},
   "outputs": [],
   "source": [
    "import qnexus"
   ]
  },
  {
   "cell_type": "code",
   "execution_count": null,
   "id": "badff73a",
   "metadata": {},
   "outputs": [],
   "source": [
    "project = qnexus.projects.get_or_create(name=\"Qubit-Reuse-Demonstration\")"
   ]
  },
  {
   "cell_type": "code",
   "execution_count": null,
   "id": "e6530a35",
   "metadata": {},
   "outputs": [],
   "source": [
    "job_name_suffix = qnexus.jobs.datetime.now().strftime(\"%Y_%m_%d-%H-%M-%S\")"
   ]
  },
  {
   "cell_type": "code",
   "execution_count": null,
   "id": "d7d7ce23",
   "metadata": {},
   "outputs": [],
   "source": [
    "qnexus.context.set_active_project(project)"
   ]
  },
  {
   "cell_type": "markdown",
   "id": "fe6efb46",
   "metadata": {},
   "source": [
    "The `QuantinuumConfig` is instantiated below to backend_config the `H1-Emulator`, an emulator instance of *System Model H1*, that is hosted on nexus."
   ]
  },
  {
   "cell_type": "code",
   "execution_count": null,
   "id": "ee43533e",
   "metadata": {},
   "outputs": [],
   "source": [
    "config = qnexus.QuantinuumConfig(device_name=\"H1-Emulator\")"
   ]
  },
  {
   "cell_type": "markdown",
   "id": "6275e9b1",
   "metadata": {},
   "source": [
    "## Simple Example\n",
    "\n",
    "Most current techniques for circuit optimisation focus on reducing the number of gates in a circuit, often aiming to reduce the number of multi-qubit gates as they are known to be more error-prone. The prevailing logic is that a shorter circuit accumulates less noise and so provides better results. The compilation technique available in this repository instead focuses on reducing the number of qubits, or width, of a circuit. This can help turn a circuit that at first seems infeasible on small near-term devices into one that can be executed. A full explanation of the techniques available can be read in the paper [Qubit-reuse compilation with mid-circuit measurement and reset](https://journals.aps.org/prx/abstract/10.1103/PhysRevX.13.041057).\n",
    "\n",
    "Let's first consider how such a technique is possible via a basic example. An existing circuit is constructed and uploaded to nexus."
   ]
  },
  {
   "cell_type": "code",
   "execution_count": null,
   "id": "f257bc29",
   "metadata": {},
   "outputs": [],
   "source": [
    "from pytket import Circuit\n",
    "from pytket.circuit.display import render_circuit_jupyter\n",
    "\n",
    "circuit = (\n",
    "    Circuit(3, 3)\n",
    "    .H(0)\n",
    "    .CX(0, 1)\n",
    "    .CX(1, 2)\n",
    "    .Measure(0, 0)\n",
    "    .Measure(1, 1)\n",
    "    .Measure(2, 2)\n",
    ")\n",
    "\n",
    "render_circuit_jupyter(circuit)"
   ]
  },
  {
   "cell_type": "code",
   "execution_count": null,
   "id": "5a9b7033",
   "metadata": {},
   "outputs": [],
   "source": [
    "ref_circuit = qnexus.circuits.upload(circuit, name=\"simple-circuit\")"
   ]
  },
  {
   "cell_type": "markdown",
   "id": "b84e64df",
   "metadata": {},
   "source": [
    "### Compilation with Nexus"
   ]
  },
  {
   "cell_type": "markdown",
   "id": "56476cca",
   "metadata": {},
   "source": [
    "The circuit above is compiled remotely with nexus. The `optimisation_level` is set to `0` and the compiled circuit only satisfies the gate-set predicate for the nexus-hosted H1 emulator."
   ]
  },
  {
   "cell_type": "code",
   "execution_count": null,
   "id": "0c980b95",
   "metadata": {},
   "outputs": [],
   "source": [
    "ref_compile_job = qnexus.start_compile_job(\n",
    "    circuits=[ref_circuit],\n",
    "    name=f\"compile-simple-circuit-{job_name_suffix}\",\n",
    "    backend_config=config,\n",
    "    optimisation_level=0\n",
    ")"
   ]
  },
  {
   "cell_type": "code",
   "execution_count": null,
   "id": "8c1a8c6c",
   "metadata": {},
   "outputs": [],
   "source": [
    "qnexus.jobs.wait_for(ref_compile_job)"
   ]
  },
  {
   "cell_type": "code",
   "execution_count": null,
   "id": "69e23dfd",
   "metadata": {},
   "outputs": [],
   "source": [
    "job_result = qnexus.jobs.results(ref_compile_job)[0]"
   ]
  },
  {
   "cell_type": "code",
   "execution_count": null,
   "id": "6630c3a0",
   "metadata": {},
   "outputs": [],
   "source": [
    "compilation_result_ref = job_result.get_output()"
   ]
  },
  {
   "cell_type": "code",
   "execution_count": null,
   "id": "f1c3f0e1",
   "metadata": {},
   "outputs": [],
   "source": [
    "compiled_circuit = compilation_result_ref.download_circuit()"
   ]
  },
  {
   "cell_type": "code",
   "execution_count": null,
   "id": "2eddf0f3",
   "metadata": {},
   "outputs": [],
   "source": [
    "from pytket.circuit.display import render_circuit_jupyter\n",
    "\n",
    "render_circuit_jupyter(compiled_circuit)"
   ]
  },
  {
   "cell_type": "markdown",
   "id": "c52b0adf",
   "metadata": {},
   "source": [
    "### Execution"
   ]
  },
  {
   "cell_type": "markdown",
   "id": "c70b0724",
   "metadata": {},
   "source": [
    "The compiled circuit is submitted to nexus-hosted H1-Emulator with 100 shots."
   ]
  },
  {
   "cell_type": "code",
   "execution_count": null,
   "id": "a8df111a",
   "metadata": {},
   "outputs": [],
   "source": [
    "execution_ref = qnexus.start_execute_job(\n",
    "    circuits=[compilation_result_ref], # <- Don't have to download, can just use the reference.\n",
    "    name=f\"execution-simple-circuit-{job_name_suffix}\",\n",
    "    backend_config=config,\n",
    "    n_shots=[100],\n",
    ")"
   ]
  },
  {
   "cell_type": "code",
   "execution_count": null,
   "id": "7eac2666",
   "metadata": {},
   "outputs": [],
   "source": [
    "qnexus.jobs.wait_for(execution_ref)"
   ]
  },
  {
   "cell_type": "code",
   "execution_count": null,
   "id": "91a68ad4",
   "metadata": {},
   "outputs": [],
   "source": [
    "result = qnexus.jobs.results(execution_ref)[0].download_result()"
   ]
  },
  {
   "cell_type": "code",
   "execution_count": null,
   "id": "62305223",
   "metadata": {},
   "outputs": [],
   "source": [
    "result.get_distribution()"
   ]
  },
  {
   "cell_type": "markdown",
   "id": "a0ae1718",
   "metadata": {},
   "source": [
    "However, looking at the Circuit we can see that the `CX` gate targeting `q[2]` is executed after all the operations on `q[0]`. As an alternative Circuit, we could measure `q[0]`, reset it to the `0` state and then replace the `CX` gate originally between `q[1]` and `q[2]` with between `q[1]` and `q[0]`. A circuit is constructed with these modified instructions and uploaded to nexus."
   ]
  },
  {
   "cell_type": "code",
   "execution_count": null,
   "id": "1815eb26",
   "metadata": {},
   "outputs": [],
   "source": [
    "from pytket import OpType\n",
    "\n",
    "circuit = (\n",
    "    Circuit(2, 3)\n",
    "    .H(0)\n",
    "    .CX(0, 1)\n",
    "    .Measure(0, 0)\n",
    "    .add_gate(OpType.Reset, [0])\n",
    "    .CX(1, 0)\n",
    "    .Measure(1, 1)\n",
    "    .Measure(0, 2)\n",
    ")\n",
    "render_circuit_jupyter(circuit)"
   ]
  },
  {
   "cell_type": "code",
   "execution_count": null,
   "id": "bdff1ccb",
   "metadata": {},
   "outputs": [],
   "source": [
    "ref_circuit_2 = qnexus.circuits.upload(circuit, name=\"simple-circuit-2\")"
   ]
  },
  {
   "cell_type": "code",
   "execution_count": null,
   "id": "0652d4ef",
   "metadata": {},
   "outputs": [],
   "source": [
    "compile_job_ref = qnexus.start_compile_job(\n",
    "    circuits=[ref_circuit_2], \n",
    "    name=f\"compile-job-simple-circuit-2-{job_name_suffix}\", \n",
    "    backend_config=config, \n",
    "    optimisation_level=0\n",
    ")"
   ]
  },
  {
   "cell_type": "code",
   "execution_count": null,
   "id": "1020c910",
   "metadata": {},
   "outputs": [],
   "source": [
    "qnexus.jobs.wait_for(compile_job_ref)\n",
    "compile_result = qnexus.jobs.results(compile_job_ref)[0]\n",
    "compile_ref_circuit = compile_result.get_output()"
   ]
  },
  {
   "cell_type": "code",
   "execution_count": null,
   "id": "918fbcdc",
   "metadata": {},
   "outputs": [],
   "source": [
    "execute_job_ref = qnexus.start_execute_job(\n",
    "    circuits=[compile_ref_circuit],\n",
    "    name=f\"execute-simple-circuit-2-{job_name_suffix}\",\n",
    "    backend_config=qnexus.QuantinuumConfig(device_name=\"H1-Emulator\"),\n",
    "    n_shots=[100]\n",
    ")\n",
    "qnexus.jobs.wait_for(execute_job_ref)"
   ]
  },
  {
   "cell_type": "code",
   "execution_count": null,
   "id": "94d3f071",
   "metadata": {},
   "outputs": [],
   "source": [
    "result = qnexus.jobs.results(execute_job_ref)[0].download_result()"
   ]
  },
  {
   "cell_type": "code",
   "execution_count": null,
   "id": "df0c5774",
   "metadata": {},
   "outputs": [],
   "source": [
    "result.get_distribution()"
   ]
  },
  {
   "cell_type": "markdown",
   "id": "9ac09d28",
   "metadata": {},
   "source": [
    "In this case, by reusing `q[0]` we've completed the same circuit using one fewer qubit.\n",
    "\n",
    "This repository provides a `pytket` compiler pass for automatically applying qubit reuse schemes to `pytket` Circuit objects. If you are unfamiliar with compilation in `pytket` the [compilation example notebook](https://github.com/CQCL/pytket/blob/main/examples/compilation_example.ipynb) in the `pytket` repository covers the basics.\n",
    "\n",
    "Lets construct a `QubitReuse` `CompilerPass` object and apply it to our original 3-qubit circuit.\n",
    "\n",
    "One of the arguments for constructing the `CompilerPass` is a function for ordering. The reuse compilation works by finding causal cones of qubit outputs (See Fig. 2 in [Qubit-reuse compilation with mid-circuit measurement and reset](https://journals.aps.org/prx/abstract/10.1103/PhysRevX.13.041057)) and implementing all of the gates in a given causal cone before proceeding to other causal cones. The order in which causal cones are chosen for implementation determines how many qubits are required in the output circuit, since causal cones that share many qubits generally require adding fewer new live qubits to a circuit to implement. An optimal ordering of causal cones produces a circuit with a minimum number of qubits.\n",
    "\n",
    "The `OrderingMethod` class provides four options for finding this ordering. For now we will look at the `BruteForceOrder` option."
   ]
  },
  {
   "cell_type": "code",
   "execution_count": null,
   "id": "b966c0e6",
   "metadata": {},
   "outputs": [],
   "source": [
    "from pytket.circuit import Circuit\n",
    "from pytket.circuit.display import render_circuit_jupyter\n",
    "from pytket.predicates import CompilationUnit\n",
    "\n",
    "from pyqubit_reuse import QubitReuse, OrderingMethod\n",
    "\n",
    "circuit = (\n",
    "    Circuit(3, 3)\n",
    "    .H(0).CX(0, 1)\n",
    "    .CX(1, 2)\n",
    "    .Measure(0, 0)\n",
    "    .Measure(1, 1)\n",
    "    .Measure(2, 2)\n",
    ")\n",
    "\n",
    "render_circuit_jupyter(circuit)\n",
    "\n",
    "qubit_reuse_pass = QubitReuse(OrderingMethod.BruteForceOrder())\n",
    "compilation_unit = CompilationUnit(circuit)\n",
    "qubit_reuse_pass.apply(compilation_unit)\n",
    "render_circuit_jupyter(compilation_unit.circuit)"
   ]
  },
  {
   "cell_type": "markdown",
   "id": "74e8c238",
   "metadata": {},
   "source": [
    "As with the case we solved ourselves above, the `QubitReuse` pass is able to reduce the circuit from three to two qubits.\n",
    "\n",
    "Now let's consider a real algorithm."
   ]
  },
  {
   "cell_type": "markdown",
   "id": "2ed6416c",
   "metadata": {},
   "source": [
    "## Demonstrating Compilation with Qubit Reuse for QAOA Circuits\n",
    "\n",
    "Combinatorial optimization problems in quantum computing can be considered as the problem of finding the ground state and its energy for a diagonal Hamiltonian on $n$ qubits:\n",
    "\n",
    "$H = \\sum\\limits_{x\\in\\{0,1\\}^{n}}C(x)|x\\rangle\\langle x|$ \n",
    "\n",
    "The paper [A Quantum Approximate Optimisation Algorithim](https://arxiv.org/abs/1411.4028) by Edward Farhi, Jeffrey Goldstone and Sam Gutmann details an algorithm for doing this.\n",
    "\n",
    "A commonly tackled combinatorial optimization problem is the Max Cut problem: given some graph with $N$ nodes and $E$ edges, split the nodes into two subsets such that there is a maximum number of edges between both subsets. This is equivalent to finding the ground state and its energy for the following Hamiltonian: \n",
    "\n",
    "$H = -\\sum\\limits_{(j,k)\\in E} 0.5(1 - Z_jZ_k)$ \n",
    "\n",
    "Since the first term in parentheses shifts the energy by an overall constant, it can be ignored.\n",
    "\n",
    "Let's create a graph and consider an example problem using `networkx`.\n",
    "\n",
    "**Note:** To run this example, run `pip install networkx` in your python environment."
   ]
  },
  {
   "cell_type": "code",
   "execution_count": null,
   "id": "ce6f9493",
   "metadata": {},
   "outputs": [],
   "source": [
    "import networkx as nx\n",
    "\n",
    "max_cut_graph_edges = [(0, 1), (1, 2), (1, 3), (3, 4), (4, 5), (4, 6)]\n",
    "max_cut_graph = nx.Graph()\n",
    "max_cut_graph.add_edges_from(max_cut_graph_edges)\n",
    "nx.draw(max_cut_graph, labels={node: node for node in max_cut_graph.nodes()})"
   ]
  },
  {
   "cell_type": "markdown",
   "id": "352c0d97",
   "metadata": {},
   "source": [
    "For this problem, having nodes `1` and `4` in the same subset (i.e. labelled differently to the remaining nodes) gives 6 edges between subsets, the maximum result.\n",
    "\n",
    "[A Quantum Approximate Optimisation Algorithim](https://arxiv.org/abs/1411.4028) uses a variational algorithim with a parameterised circuit construction to find the maximum eigenvalue and corresponding eigenstates of the encoded Hamiltonian. From here on we will not look at how to solve the problem, but instead take the circuit construction proposed and show how qubit reuse can reduce the number of qubits in the circuit. \n",
    "\n",
    "To do so, we will define a function to convert the edges of a graph to a `pytket` QAOA `Circuit`. Technically, qubit reuse could depend on the order in which we insert gates corresponding to edges, but we will not worry about that for this demonstration."
   ]
  },
  {
   "cell_type": "code",
   "execution_count": null,
   "id": "ebca8e1b",
   "metadata": {},
   "outputs": [],
   "source": [
    "from typing import List, Tuple\n",
    "\n",
    "def gen_qaoa_max_cut_circuit(edges: List[Tuple[int, int]],\n",
    "                             n_nodes: int,\n",
    "                             mixer_angles: List[float],\n",
    "                             cost_angles: List[float],) -> Circuit:\n",
    "    \"\"\" Generate QAOA MaxCut circuit. \"\"\"\n",
    "    assert len(mixer_angles) == len(cost_angles)\n",
    "\n",
    "    # initial state\n",
    "    qaoa_circuit = Circuit(n_nodes)\n",
    "    for qubit in range(n_nodes):\n",
    "        qaoa_circuit.H(qubit)\n",
    "\n",
    "    # add cost and mixer terms to state\n",
    "    for cost, mixer in zip(cost_angles, mixer_angles):\n",
    "\n",
    "        for edge in edges:\n",
    "            qaoa_circuit.ZZPhase(cost, edge[0], edge[1])\n",
    "\n",
    "        for i in range(n_nodes):\n",
    "            qaoa_circuit.Rx(mixer,i)\n",
    "\n",
    "    qaoa_circuit.measure_all()\n",
    "    return qaoa_circuit"
   ]
  },
  {
   "cell_type": "markdown",
   "id": "2315cd16",
   "metadata": {},
   "source": [
    "The `mixer_angles` and `cost_angles` inputs are the parameterised values used to explore the solution space and find the maximum eigenvalue and corresponding eigenstates. For this example, which is only considering qubit reuse, we will set them arbitrarily to values that won't be optimised away."
   ]
  },
  {
   "cell_type": "code",
   "execution_count": null,
   "id": "bd400301",
   "metadata": {},
   "outputs": [],
   "source": [
    "qaoa_circuit = gen_qaoa_max_cut_circuit(max_cut_graph_edges, 7, [0.3], [0.3])\n",
    "render_circuit_jupyter(qaoa_circuit)"
   ]
  },
  {
   "cell_type": "markdown",
   "id": "b52ff266",
   "metadata": {},
   "source": [
    "We've constructed a 7-qubit circuit: an intuitive explanation of the circuit constructed may be that each edge in the graph corresponds to a ZZ term in the Hamiltonian, and each ZZ term in the Hamiltonian corresponds to a ZZPhase gate in the circuit.\n",
    "\n",
    "Can qubit reuse reduce this? \n",
    "\n",
    "Here the `BruteForceOrder` `OrderingMethod` is used. This will take a long time to run since it will calculate and score every possible ordering for merging causal cones, with the number of orders scaling exponentially."
   ]
  },
  {
   "cell_type": "code",
   "execution_count": null,
   "id": "1782f0ce",
   "metadata": {},
   "outputs": [],
   "source": [
    "compilation_unit = CompilationUnit(qaoa_circuit)\n",
    "qubit_reuse_pass.apply(compilation_unit)\n",
    "render_circuit_jupyter(compilation_unit.circuit)"
   ]
  },
  {
   "cell_type": "code",
   "execution_count": null,
   "id": "3d6395a6",
   "metadata": {},
   "outputs": [],
   "source": [
    "print(\"Reused Circuit has\", compilation_unit.circuit.n_qubits, \"qubits.\")"
   ]
  },
  {
   "cell_type": "markdown",
   "id": "08220a72",
   "metadata": {},
   "source": [
    "By applying the qubit reuse pass we're able to reduce the number of qubits in the Circuit from 7 to 2. \n",
    "\n",
    "Lets consider a larger, random problem."
   ]
  },
  {
   "cell_type": "code",
   "execution_count": null,
   "id": "3c641de5",
   "metadata": {},
   "outputs": [],
   "source": [
    "random_9_node_graph = nx.random_regular_graph(4, 9)\n",
    "nx.draw(\n",
    "    random_9_node_graph, labels={node: node for node in random_9_node_graph.nodes()}\n",
    ")"
   ]
  },
  {
   "cell_type": "code",
   "execution_count": null,
   "id": "2815a8d5",
   "metadata": {},
   "outputs": [],
   "source": [
    "random_9_node_graph_edges = list(random_9_node_graph.edges())\n",
    "qaoa_circuit_9 = gen_qaoa_max_cut_circuit(random_9_node_graph_edges, 9, [0.3], [0.3])\n",
    "render_circuit_jupyter(qaoa_circuit_9)"
   ]
  },
  {
   "cell_type": "code",
   "execution_count": null,
   "id": "8f17ae3f",
   "metadata": {},
   "outputs": [],
   "source": [
    "compilation_unit = CompilationUnit(qaoa_circuit_9)\n",
    "qubit_reuse_pass.apply(compilation_unit)\n",
    "render_circuit_jupyter(compilation_unit.circuit)"
   ]
  },
  {
   "cell_type": "code",
   "execution_count": null,
   "id": "6435a90e",
   "metadata": {},
   "outputs": [],
   "source": [
    "print(\"Reused Circuit has\", compilation_unit.circuit.n_qubits, \"qubits.\")"
   ]
  },
  {
   "cell_type": "markdown",
   "id": "06774eca",
   "metadata": {},
   "source": [
    "Given this, the qubit reuse package comes with several other `OrderingMethod` functions for finding solutions for larger problems. Lets see how each of them perform for a much larger problem."
   ]
  },
  {
   "cell_type": "markdown",
   "id": "64c0c0bd",
   "metadata": {},
   "source": [
    "## Additional Ordering Methods\n",
    "\n",
    "Note that all the functions provided below correspond to the techniques outlined in [Qubit-reuse compilation with mid-circuit measurement and reset](https://journals.aps.org/prx/abstract/10.1103/PhysRevX.13.041057)."
   ]
  },
  {
   "cell_type": "code",
   "execution_count": null,
   "id": "ecaef49f",
   "metadata": {},
   "outputs": [],
   "source": [
    "random_100_node_graph = nx.random_regular_graph(5, 100)\n",
    "nx.draw(\n",
    "    random_100_node_graph, labels={node: node for node in random_100_node_graph.nodes()}\n",
    ")"
   ]
  },
  {
   "cell_type": "code",
   "execution_count": null,
   "id": "d8aac2e4",
   "metadata": {},
   "outputs": [],
   "source": [
    "random_100_node_graph_edges = list(random_100_node_graph.edges())\n",
    "qaoa_circuit_100 = gen_qaoa_max_cut_circuit(\n",
    "    random_100_node_graph_edges, 100, [0.3], [0.3]\n",
    ")"
   ]
  },
  {
   "cell_type": "markdown",
   "id": "376fc326",
   "metadata": {},
   "source": [
    "Using `OrderingMethod.LocalGreedyOrder()`."
   ]
  },
  {
   "cell_type": "code",
   "execution_count": null,
   "id": "2edcd9de",
   "metadata": {},
   "outputs": [],
   "source": [
    "compilation_unit = CompilationUnit(qaoa_circuit_100)\n",
    "qubit_reuse_pass_local_greedy = QubitReuse(OrderingMethod.LocalGreedyOrder())\n",
    "qubit_reuse_pass_local_greedy.apply(compilation_unit)\n",
    "print(\"Reused Circuit has\", compilation_unit.circuit.n_qubits, \"qubits.\")"
   ]
  },
  {
   "cell_type": "markdown",
   "id": "0587193e",
   "metadata": {},
   "source": [
    "Using `OrderingMethod.LocalGreedyFirstNodeSearchOrder()`."
   ]
  },
  {
   "cell_type": "code",
   "execution_count": null,
   "id": "bf7862d0",
   "metadata": {},
   "outputs": [],
   "source": [
    "compilation_unit = CompilationUnit(qaoa_circuit_100)\n",
    "qubit_reuse_pass_local_greedy_first_node_search_order = QubitReuse(\n",
    "    OrderingMethod.LocalGreedyFirstNodeSearchOrder()\n",
    ")\n",
    "qubit_reuse_pass_local_greedy_first_node_search_order.apply(compilation_unit)\n",
    "print(\"Reused Circuit has\", compilation_unit.circuit.n_qubits, \"qubits.\")"
   ]
  },
  {
   "cell_type": "markdown",
   "id": "da79fb8b",
   "metadata": {},
   "source": [
    "The default settings for qubit reuse will use `OrderingMethod.ConstrainedOptOrder()` for qubit numbers between 10 and 25. The `ConstrainedOptOrder` function corresponds to the CP-SAT method outlined in the paper, which finds the optimal reduced number of qubits. The complexity of CP-SAT is highly dependent on circuit structure, so it may or may not take a long time for larger circuits."
   ]
  },
  {
   "cell_type": "code",
   "execution_count": null,
   "id": "5318597b",
   "metadata": {},
   "outputs": [],
   "source": [
    "random_20_node_graph = nx.random_regular_graph(4, 20)\n",
    "nx.draw(\n",
    "    random_20_node_graph, labels={node: node for node in random_20_node_graph.nodes()}\n",
    ")"
   ]
  },
  {
   "cell_type": "code",
   "execution_count": null,
   "id": "a4393ae3",
   "metadata": {},
   "outputs": [],
   "source": [
    "random_20_node_graph_edges = list(random_20_node_graph.edges())\n",
    "qaoa_circuit_20 = gen_qaoa_max_cut_circuit(random_20_node_graph_edges, 20, [0.3], [0.3])\n",
    "render_circuit_jupyter(qaoa_circuit_20)"
   ]
  },
  {
   "cell_type": "code",
   "execution_count": null,
   "id": "5a7246ac",
   "metadata": {},
   "outputs": [],
   "source": [
    "compilation_unit = CompilationUnit(qaoa_circuit_20)\n",
    "qubit_reuse_pass_constrained_opt_order = QubitReuse(\n",
    "    OrderingMethod.ConstrainedOptOrder()\n",
    ")\n",
    "qubit_reuse_pass_constrained_opt_order.apply(compilation_unit)\n",
    "render_circuit_jupyter(compilation_unit.circuit)\n",
    "print(\"Reused Circuit has\", compilation_unit.circuit.n_qubits, \"qubits.\")"
   ]
  },
  {
   "cell_type": "markdown",
   "id": "0c29117c",
   "metadata": {},
   "source": [
    "`OrderingMethod.DefaultOrder()` switches between the four ordering methods shown depending on the number of qubits."
   ]
  },
  {
   "cell_type": "code",
   "execution_count": null,
   "id": "555400a9",
   "metadata": {},
   "outputs": [],
   "source": [
    "compilation_unit = CompilationUnit(qaoa_circuit_20)\n",
    "qubit_reuse_pass_default_order = QubitReuse(OrderingMethod.DefaultOrder())\n",
    "qubit_reuse_pass_default_order.apply(compilation_unit)\n",
    "render_circuit_jupyter(compilation_unit.circuit)\n",
    "print(\"Reused Circuit has\", compilation_unit.circuit.n_qubits, \"qubits.\")"
   ]
  },
  {
   "cell_type": "markdown",
   "id": "a3e3c038",
   "metadata": {},
   "source": [
    "Finally, there is `OrderingMethod.CustomOrder()` which uses an order specified at construction."
   ]
  },
  {
   "cell_type": "code",
   "execution_count": null,
   "id": "5146bf6a",
   "metadata": {},
   "outputs": [],
   "source": [
    "compilation_unit = CompilationUnit(qaoa_circuit_20)\n",
    "qubit_reuse_pass_default_order = QubitReuse(OrderingMethod.CustomOrder(range(0, 20)))\n",
    "qubit_reuse_pass_default_order.apply(compilation_unit)\n",
    "render_circuit_jupyter(compilation_unit.circuit)\n",
    "print(\"Reused Circuit has\", compilation_unit.circuit.n_qubits, \"qubits.\")"
   ]
  },
  {
   "cell_type": "markdown",
   "id": "b038d580",
   "metadata": {},
   "source": [
    "The `QubitReuse` pass has two further parameters that can be used. \n",
    "\n",
    "The first is `DualStrat`. Given that some of the available reodering methods are heuristics, sometimes a better solution can be found by running the algorithm on the dual circuit as described in [Qubit-reuse compilation with mid-circuit measurement and reset](https://journals.aps.org/prx/abstract/10.1103/PhysRevX.13.041057). In this case, we can run the qubit reuse scheme on the reverse (dual) circuit and then reverse it again to get a logically equivalent circuit. \n",
    "\n",
    "`DualStrat` has three options: `Single`, `Dual` and `Auto`. `Single` runs the qubit reuse algorithm on the given circuit only. `Dual` runs the qubit reuse algorithm on the reversed circuit and `Auto` runs on both the given and reversed circuit and returns the circuit with fewer qubits. If both circuits have the same number of qubits it returns the circuit with better depth, defaulting to the `None` strategy if both are deemed equivalent.  By default, and for best performance, `Auto` is used. \n",
    "\n",
    "We will look at how to run it using the previous QAOA examples."
   ]
  },
  {
   "cell_type": "code",
   "execution_count": null,
   "id": "232404c3",
   "metadata": {},
   "outputs": [],
   "source": [
    "from pyqubit_reuse import DualStrat\n",
    "\n",
    "compilation_unit = CompilationUnit(qaoa_circuit_20)\n",
    "qubit_reuse_pass_default_order = QubitReuse(\n",
    "    OrderingMethod.DefaultOrder(), dual_strat=DualStrat.Dual\n",
    ")\n",
    "qubit_reuse_pass_default_order.apply(compilation_unit)\n",
    "render_circuit_jupyter(compilation_unit.circuit)\n",
    "print(\"Reused Circuit has\", compilation_unit.circuit.n_qubits, \"qubits.\")"
   ]
  },
  {
   "cell_type": "code",
   "execution_count": null,
   "id": "93c59a63",
   "metadata": {},
   "outputs": [],
   "source": [
    "print(\"Reused Circuit has\", compilation_unit.circuit.n_gates, \"gates.\")"
   ]
  },
  {
   "cell_type": "markdown",
   "id": "d3f23b49",
   "metadata": {},
   "source": [
    "We can also set a minimum number of qubits as a target for the qubit reuse algorithm, which guarantees that the returned circuit whose number of qubits is equals to or less than the setting qubit number.\n",
    "\n",
    "We can take the QAOA problem we have just run and specify a minimum number of qubits larger than the 9 it returned."
   ]
  },
  {
   "cell_type": "code",
   "execution_count": null,
   "id": "58bfa47b",
   "metadata": {},
   "outputs": [],
   "source": [
    "compilation_unit = CompilationUnit(qaoa_circuit_20)\n",
    "qubit_reuse_pass_default_order = QubitReuse(\n",
    "    OrderingMethod.DefaultOrder(), dual_strat=DualStrat.Dual, min_qubits=11\n",
    ")\n",
    "qubit_reuse_pass_default_order.apply(compilation_unit)\n",
    "render_circuit_jupyter(compilation_unit.circuit)\n",
    "print(\"Reused Circuit has\", compilation_unit.circuit.n_qubits, \"qubits.\")"
   ]
  },
  {
   "cell_type": "code",
   "execution_count": null,
   "id": "f9850a54",
   "metadata": {},
   "outputs": [],
   "source": [
    "print(\"Reused Circuit has\", compilation_unit.circuit.n_gates, \"gates.\")"
   ]
  },
  {
   "cell_type": "markdown",
   "id": "41562b84",
   "metadata": {},
   "source": [
    "We can see that by specifying a minimum of 11 qubits, the returned circuit is now larger. \n",
    "\n",
    "Finally, in some algorithmic scenarios, such as computing few-body correlation functions, we may be able to reason that the outcome results of certain qubits are not necessary to the full algorithm being run. For this scenario we provide a method in `pyqubit_reuse` called `correlation_subcircuit` which given a list of `Qubit` and `Bit` that are known to be required, returns a new `Circuit` only containing operations in the causal cones of the `Qubit` and `Bit` given. "
   ]
  },
  {
   "cell_type": "code",
   "execution_count": null,
   "id": "989b86e6",
   "metadata": {},
   "outputs": [],
   "source": [
    "from pyqubit_reuse import correlation_subcircuit\n",
    "from pytket import Bit\n",
    "\n",
    "correlated_qaoa_20 = correlation_subcircuit(\n",
    "    qaoa_circuit_20, [Bit(i) for i in range(0, 5)]\n",
    ")\n",
    "\n",
    "render_circuit_jupyter(correlated_qaoa_20)\n",
    "print(\"Correlated subcircuit has\", correlated_qaoa_20.n_qubits, \"qubits.\")"
   ]
  },
  {
   "cell_type": "markdown",
   "id": "e9621c9f",
   "metadata": {},
   "source": [
    "We can then apply a `QubitReuse` pass to this."
   ]
  },
  {
   "cell_type": "code",
   "execution_count": null,
   "id": "e5dd47ea",
   "metadata": {},
   "outputs": [],
   "source": [
    "compilation_unit = CompilationUnit(correlated_qaoa_20)\n",
    "qubit_reuse_pass_default_order = QubitReuse(OrderingMethod.DefaultOrder())\n",
    "qubit_reuse_pass_default_order.apply(compilation_unit)\n",
    "render_circuit_jupyter(compilation_unit.circuit)\n",
    "print(\"Reused Circuit has\", compilation_unit.circuit.n_qubits, \"qubits.\")"
   ]
  },
  {
   "cell_type": "markdown",
   "id": "afcb0c3c",
   "metadata": {},
   "source": [
    "As described in [Qubit-reuse compilation with mid-circuit measurement and reset](https://journals.aps.org/prx/abstract/10.1103/PhysRevX.13.041057), compilation of tensor network circuits can be improved with qubit-reuse. For instance, for a quantum circuit implementation of the (depth-D, binary, open boundary conditions) Multiscale Entanglement Renormalization Ansatz (MERA, see [A class of quantum many-body states that can be efficiently simulated](https://arxiv.org/pdf/quant-ph/0610099) in detail) defined on $2^D$ qubits, the full output can be measured with only $2D - 1$ qubits."
   ]
  },
  {
   "cell_type": "code",
   "execution_count": null,
   "id": "4d641f7a",
   "metadata": {},
   "outputs": [],
   "source": [
    "def isometry(circ: Circuit, l_Q: List[int]) -> None:\n",
    "    \"\"\" Adds isometry circuit by modifying circ. \"\"\"\n",
    "    for i in range(0, len(l_Q), 2): \n",
    "        circ.U3(1/2, 1/2, 1/2, l_Q[i])\n",
    "        circ.U3(1/2, 1/2, 1/2, l_Q[i+1])\n",
    "        circ.CX(l_Q[i+1], l_Q[i])\n",
    "        circ.Rz(1/2, l_Q[i])\n",
    "        circ.Ry(1/2, l_Q[i+1])\n",
    "        circ.CX(l_Q[i], l_Q[i+1])\n",
    "        circ.Ry(1/2, l_Q[i+1])\n",
    "        circ.CX(l_Q[i+1], l_Q[i])\n",
    "        circ.U3(1/2, 1/2, 1/2, l_Q[i])\n",
    "        circ.U3(1/2, 1/2, 1/2, l_Q[i+1])\n",
    "        \n",
    "\n",
    "def entangler(circ: Circuit, l_Q: List[int]) -> None:\n",
    "    \"\"\" Adds entangler circuit by modifying circ. \"\"\"\n",
    "    for i in range(0, len(l_Q)-2, 2): \n",
    "        circ.U3(1/2, 1/2, 1/2, l_Q[i+1])\n",
    "        circ.U3(1/2, 1/2, 1/2, l_Q[i+2])\n",
    "        circ.CX(l_Q[i+2], l_Q[i+1])\n",
    "        circ.Rz(1/2, l_Q[i+1])\n",
    "        circ.Ry(1/2, l_Q[i+2])\n",
    "        circ.CX(l_Q[i+1], l_Q[i+2])\n",
    "        circ.Ry(1/2, l_Q[i+2])\n",
    "        circ.CX(l_Q[i+2], l_Q[i+1])\n",
    "        circ.U3(1/2, 1/2, 1/2, l_Q[i+1])\n",
    "        circ.U3(1/2, 1/2, 1/2, l_Q[i+2])\n",
    "\n",
    "def qMERA_circuit(depth: int) -> Circuit:\n",
    "    \"\"\" Given a depth, returns a Multiscale Entangelemnt Renormalization Ansatz circuit.\"\"\"\n",
    "    n_qubits = 2**depth\n",
    "    circ = Circuit(n_qubits, n_qubits)\n",
    "    for j in range(depth):\n",
    "        list_qb: List[int] = [i_nq for i_nq in range(0, n_qubits, n_qubits//(2**(j+1)))]    \n",
    "        isometry(circ, list_qb)\n",
    "        entangler(circ, list_qb)\n",
    "     \n",
    "    circ.measure_all()\n",
    "    return circ\n"
   ]
  },
  {
   "cell_type": "code",
   "execution_count": null,
   "id": "82a1ea97",
   "metadata": {},
   "outputs": [],
   "source": [
    "compilation_unit = CompilationUnit(qMERA_circuit(7))\n",
    "print(\"Original circuit has\", compilation_unit.circuit.n_qubits, \"qubits.\")\n",
    "QubitReuse(OrderingMethod.LocalGreedyFirstNodeSearchOrder()).apply(compilation_unit)\n",
    "print(\"Reused Circuit has\", compilation_unit.circuit.n_qubits, \"qubits.\")"
   ]
  },
  {
   "cell_type": "markdown",
   "id": "73b0e82e",
   "metadata": {},
   "source": [
    "In the above, we took a MERA circuit originally defined on $2^7 = 128$ qubits and compressed it down to only require $2*7 - 1 = 13$ qubits to measure the full output, which agrees with the analytic result for optimal compression. Notice that the compilation in the above cell was performed with the heuristic `OrderingMethod.LocalGreedyFirstNodeSearchOrder()` but still returned the optimal result, demonstrating that the heuristic is able to capture optimal results on problems too large for brute force solvers.\n",
    "\n",
    "In many practical applications like MERA, one is only interested in measuring local correlation functions like $\\langle X_0 X_{64}\\rangle$, requiring measurements on only a subset of the output qubits. For instance, suppose one is only interested in measuring such a correlation function involving qubits 0 and 64 in the MERA defined above. In that case, we can first define the restricted `correlation_subcircuit` corresponding to those circuits, before applying the qubit reuse pass to the restricted subcircuit."
   ]
  },
  {
   "cell_type": "code",
   "execution_count": null,
   "id": "e7559c9e",
   "metadata": {},
   "outputs": [],
   "source": [
    "correlated_qMera = correlation_subcircuit(\n",
    "    qMERA_circuit(7), [Bit(0), Bit(64)]\n",
    ")\n",
    "compilation_unit = CompilationUnit(correlated_qMera)\n",
    "QubitReuse(OrderingMethod.LocalGreedyFirstNodeSearchOrder()).apply(compilation_unit)\n",
    "print(\"Reused Circuit has\", compilation_unit.circuit.n_qubits, \"qubits.\")"
   ]
  },
  {
   "cell_type": "markdown",
   "id": "268812b0",
   "metadata": {},
   "source": [
    "Measuring the output of this restricted subcircuit requires only 4 qubits on hardware, less than the optimal compression of 13 that the entire output would require."
   ]
  },
  {
   "cell_type": "markdown",
   "id": "68d26362",
   "metadata": {},
   "source": [
    "<div align=\"center\"> &copy; 2024 by Quantinuum. All Rights Reserved. </div>"
   ]
  }
 ],
 "metadata": {
  "kernelspec": {
   "display_name": "Python 3 (ipykernel)",
   "language": "python",
   "name": "python3"
  },
  "language_info": {
   "codemirror_mode": {
    "name": "ipython",
    "version": 3
   },
   "file_extension": ".py",
   "mimetype": "text/x-python",
   "name": "python",
   "nbconvert_exporter": "python",
   "pygments_lexer": "ipython3",
   "version": "3.10.14"
  },
  "nbTranslate": {
   "displayLangs": [
    "*"
   ],
   "hotkey": "alt-t",
   "langInMainMenu": true,
   "sourceLang": "en",
   "targetLang": "fr",
   "useGoogleTranslate": true
  },
  "vscode": {
   "interpreter": {
    "hash": "a3bac8d7f869b877819744af6cbbf688351a6d4c49c3b29544e43f7964586a0c"
   }
  }
 },
 "nbformat": 4,
 "nbformat_minor": 5
}
