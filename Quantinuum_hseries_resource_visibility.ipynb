{
 "cells": [
  {
   "cell_type": "markdown",
   "metadata": {},
   "source": [
    "<div style=\"text-align: center;\">\n",
    "<img src=\"https://assets-global.website-files.com/62b9d45fb3f64842a96c9686/62d84db4aeb2f6552f3a2f78_Quantinuum%20Logo__horizontal%20blue.svg\" width=\"200\" height=\"200\" /></div>"
   ]
  },
  {
   "cell_type": "markdown",
   "metadata": {},
   "source": [
    "# H-Series Resource Visibility"
   ]
  },
  {
   "cell_type": "markdown",
   "metadata": {
    "lang": "en"
   },
   "source": [
    "To run quantum programs on H-Series emulators and devices, users must submit jobs using `qnexus`. A nexus exeucte job targetting H-Series consists of a `circuit` and a `result`. Circuits contain the instructions for running a program on the quantum computer, and are submitted to a user-specified emulator or device. Once the circuit has completed execution on H-Series, a result is available to view by the end user. There is no expiration date on the retention period of nexus jobs. In other words, nexus jobs are stored on database forever.\n",
    "\n",
    "Jobs submitted to the H-Series emulators and devices enter a fair queuing system. Jobs will wait in the queue until they run on the target device. A fair queuing process is used to ensure each organization’s queue is equally represented for machine access. The jobs submitted by users in the same organization are executed in the submission order. If users submit a job to a specific machine that is not available, the jobs will remain at the top of an organization’s queue until that machine is available. Machines do not need to be online when submitting jobs. Users are encouraged to submit jobs at their convenience. The H-Series quantum computers are periodically taken down for upgrades. If a job is submitted while the machine is in an upgrade cycle, it will remain in the queue and run when the machine is back online. Users are able and encouraged to submit jobs to the queue.\n",
    "\n",
    "The [Quantinuum Nexus user portal]([https://nexus.quantinuuum.com]) displays all jobs submitted to the queue for a specific user. [`qnexus`](https://docs.quantinuum.com/nexus) can be used to programmatically access resource visibility. The *Resource Visibility in the User Portal* section narrates how project-level, job-level and device-level data can be displayed. At the device-level, calendar data is available on when H-Series is operational. `qnexus` is used to show job-level and project-level visibility in addition to quota visibility."
   ]
  },
  {
   "cell_type": "markdown",
   "metadata": {},
   "source": [
    "**Contents**\n",
    "* [Queuing System](#Queuing-System)\n",
    "* [Minimize H-Series Queue Time](#Minimize-H-Series-Queue-Time)\n",
    "* [Resource Visibility in the User Portal](#Queue-Visibility-in-the-User-Portal)\n",
    "* [Resource Visibility with `qnexus`](#Queue-Visibility-with-`qnexus`)"
   ]
  },
  {
   "cell_type": "markdown",
   "metadata": {},
   "source": [
    "## Queuing System"
   ]
  },
  {
   "cell_type": "markdown",
   "metadata": {},
   "source": [
    "### Nexus Queuing System\n",
    "\n",
    "Nexus operates a *First-In First-Out* (FIFO) queue for all compilation jobs, in addition to execution jobs submitted to nexus-hosted emulators and simulators. Compilation jobs have a 5 minute window before termination and job failure. All jobs submitted to nexus for execution on H-Series-hosted targets are submitted to a *first-in, first-out* queue within nexus. All jobs submitted to nexus will be directed to H-Series in order of submission date - jobs submitted earlier will be submitted first to H-Series. User and group priorities only impact job selection within the H-Series Fair Queue."
   ]
  },
  {
   "cell_type": "markdown",
   "metadata": {},
   "source": [
    "### H-Series Fair-share Queuing System"
   ]
  },
  {
   "cell_type": "markdown",
   "metadata": {},
   "source": [
    "The fair-share queue fairly distributes access opportunities to H-Series quantum computers and emulators across users from all organizations. The fair-share queue is an important step in the H-Series software stack for scheduling jobs on H-Series and maximizing compute on the hardware."
   ]
  },
  {
   "cell_type": "markdown",
   "metadata": {},
   "source": [
    "### Job Selection"
   ]
  },
  {
   "cell_type": "markdown",
   "metadata": {},
   "source": [
    "Job selection with the fair-share queue is determined by H-System Quantum Credits (HQCs) accumulation per organization, group priority within an organization, user priority within a group and submission date for all jobs of a selected user.\n",
    "\n",
    "1. HQCs accumulation\n",
    "    * An organization from all organizations submitting to a target is selected based on the HQC accumulation, how many HQCs have been consumed by the organization, within the Fair Queue Time Window (FQTW).\n",
    "    * The FQTW is defined to be 2-4 hours.\n",
    "1. Group Priority\n",
    "    * Within the selected organization, jobs from User Groups are ranked and chosen according to group priority. \n",
    "    * If multiple groups have the same priority, HQC accumulation is used as a secondary criterion to select jobs. Jobs will run first for groups with lower HQC accumulation.\n",
    "1. User Priority\n",
    "    * Once a group is selected, the highest priority user is selected.\n",
    "1. Submission Date\n",
    "    * The job with the oldest submission date of the selected user begins execution.\n",
    "1. Job Execution\n",
    "    * The selected job is chunked into slices based on the number of shots requested by the user and the complexity of the job. Job complexity is determined by the number of two-qubit gates and measurement gates.\n",
    "    * A slice of a job is a small number of shots that can be executed between calibration runs.\n",
    "1. Update organization HQC accumulation within FQTW."
   ]
  },
  {
   "cell_type": "markdown",
   "metadata": {},
   "source": [
    "<div style=\"text-align: center;\">\n",
    "         <img src=\"figures/FQ_1.png\" width=\"800\" />\n",
    "</div>"
   ]
  },
  {
   "cell_type": "markdown",
   "metadata": {},
   "source": [
    "For jobs submitted with large shot counts, jobs are chunked into `slices` with a smaller shot counts. The number of shots in a slice is dynamically chosen by the H-Series compiler and will vary with the complexity of the circuit. \n",
    "\n",
    "A series of system checks are performed before and after each slice. If an error is detected, any suspect results are rejected and the failed chunk shots are rerun at no additional cost.\n",
    "\n",
    "Once a job is selected and starts running, it is assigned a `start date`. Once the job finishes running, it is assigned a `result date`. For jobs consisting of multiple slices, the time between the start date and result date will include all of the system checks and calibrations that happened in the middle of that job and possibly slices from other jobs in the queue. Users should *not* expect that `result date` less `start date` be the system run-time of the job as this is more than likely not the case.\n",
    "\n",
    "Partial results can be retrieved for the slices that have completed running on the H-series device or emulator using the [`get_partial_results` method](https://tket.quantinuum.com/extensions/pytket-quantinuum/api.html#pytket.extensions.quantinuum.QuantinuumBackend.get_partial_result) in `pytket`.\n",
    "\n",
    "Jobs running on the emulator will have a runtime dependent on the number of qubits. A 17-qubit emulation may require 10 minutes to complete while a 25-qubit emulation may require over 24 hours to complete.\n",
    "\n",
    "Fairness is dictated by the HQC accumulation for each organization. Organizations with premium subscriptions will benefit from slower HQC accumulation and therefore will receive higher priority in the fair-share queue."
   ]
  },
  {
   "cell_type": "markdown",
   "metadata": {},
   "source": [
    "### Organizations"
   ]
  },
  {
   "cell_type": "markdown",
   "metadata": {},
   "source": [
    "Users from the same organization submitting jobs to H-Series compete for access through their organization's queue. Organizations consist of users and groups. Multiple users can be in a group and organizations can have multiple users. Organizations can choose whether or not to use user group priorities or user priorities, controlled by organization administrators. If a user has no association with an existing group, they are assigned the `DEFAULT` group of the organization.\n",
    "\n",
    "* Organization priority (default: 5) is defined between 1 (highest) and 10 (lowest). \n",
    "* Higher priority jobs run before lower priority jobs. \n",
    "* Jobs not associated with any group are assigned to the `DEFAULT` group with the default group priority (5).\n",
    "\n",
    "Long queue times can arise if there are several jobs submitted from the same organization.\n",
    "\n",
    "Organization administrators cannot modify how the Fair Queue selects organizations."
   ]
  },
  {
   "cell_type": "markdown",
   "metadata": {},
   "source": [
    "<div style=\"text-align: center;\">\n",
    "         <img src=\"figures/FQ_2.png\" width=\"800\" />\n",
    "</div>"
   ]
  },
  {
   "cell_type": "markdown",
   "metadata": {},
   "source": [
    "### Job Chunking"
   ]
  },
  {
   "cell_type": "markdown",
   "metadata": {},
   "source": [
    "For jobs submitted with large shot counts, jobs are chunked into `slices` with a smaller shot counts. The number of shots in a slice is dynamically chosen by the H-Series compiler and will vary with the complexity of the circuit. \n",
    "\n",
    "A series of system checks are performed before and after each slice. If an error is detected, any suspect results are rejected and the failed chunk shots are rerun at no additional cost.\n",
    "\n",
    "The time to solution, the difference between the `result-date` and the `start-date`, is contaminated by chunks of jobs from other organizations. It does not reflect the true execution time on the H-Series device. Batching ensures chunks of jobs from other users do not run during your jobs. Jobs in a batch will run consecutively after each other, after the batch starts."
   ]
  },
  {
   "cell_type": "markdown",
   "metadata": {},
   "source": [
    "<div style=\"text-align: center;\">\n",
    "         <img src=\"figures/FQ_3.png\" width=\"800\" />\n",
    "</div>"
   ]
  },
  {
   "cell_type": "markdown",
   "metadata": {},
   "source": [
    "## Minimize H-Series Queue Time"
   ]
  },
  {
   "cell_type": "markdown",
   "metadata": {},
   "source": [
    "The fair-share queue distributes access to H-Series devices and emulators across multiple organizations. Internally within a selected organization, users can improve the likelihood of their job being selected for execution via communication with the organization administrator. The organization administrator can control user and group priorities to ensure a specific user's jobs start running first within the organization. Group and user priorities can be set by an organization administrator using the user portal or Quantinuum API. The schedule for operations hours on the H-Series device is displayed on the user portal. Emulator targets are readily available to use 24 hours a day. Below are a list of steps a user should follow:"
   ]
  },
  {
   "cell_type": "markdown",
   "metadata": {},
   "source": [
    "1. Keep jobs in the organization queue.\n",
    "2. Utilise batching when submitting a large number of jobs.\n",
    "3. Use User and Group priorities to increase job priority within the organizational queue.\n",
    "4. Plan QPU and emulator usage around the calendar month.\n",
    "5. Plan usage around published calendar.\n",
    "6. Submit to the correct system for the job."
   ]
  },
  {
   "cell_type": "markdown",
   "metadata": {},
   "source": [
    "<div style=\"text-align: center;\">\n",
    "         <img src=\"figures/FQ_4.png\" width=\"800\" />\n",
    "</div>"
   ]
  },
  {
   "cell_type": "markdown",
   "metadata": {},
   "source": [
    "## Resource Visibility in the User Portal"
   ]
  },
  {
   "cell_type": "markdown",
   "metadata": {},
   "source": [
    "The nexus user portal is available at [https://nexus.quantinuum.com/](https://nexus.quantinuum.com/). To access user-specific queue information, valid credentials are required."
   ]
  },
  {
   "cell_type": "markdown",
   "metadata": {},
   "source": [
    "### Project View\n",
    "\n",
    "A projects tab in the top navigation bar leads to a Project view. All projects a user will have access to are available here. The different types of access are available [here](https://docs.quantinuum.com/nexus/concepts/access_control.html).\n",
    "\n",
    "<div style=\"text-align: center;\">\n",
    "    <img src=\"figures/resource_visibility_projects_umui.png\" width=\"800\">\n",
    "</div>\n",
    "\n",
    "### Jobs View\n",
    "\n",
    "The user portal also displays all jobs submitted by the user within a project. These can be filtered by a date range for job submission, a name or status.\n",
    "\n",
    "The user portal job view tabulates the jobs alongside certain properties. These properties are listed below:\n",
    "\n",
    "* **Job:** A user friendly name attached to the job. Useful for filtering jobs in the job view of the user portal. This is set by the user at the point of job submission.\n",
    "* **Type:** A `Compile` or `Execute` job.\n",
    "* **Status:** If the Job is `Queued`, `Running`, `Completed` or `Failed`.\n",
    "* **Items** Number of items available to view.\n",
    "* **Backend:** The `BackendConfig` used to submit jobs to the \n",
    "* **Submitted by:** Indentity that submitted the job.\n",
    "* **Submitted:** Time period from submission date to the current period.\n",
    "\n",
    "<div style=\"text-align: center;\">\n",
    "    <img src=\"figures/jobs_view_user_project.png\" width=\"800\">\n",
    "</div>"
   ]
  },
  {
   "cell_type": "markdown",
   "metadata": {},
   "source": [
    "Job position in the queue is determined by order of submission. Jobs submitted first will be executed first.\n",
    "\n",
    "The job view in the user portal is user specific. It will not show the position of the user's jobs in the organization queue, or reveal information on jobs submitted by other users in the same organization. \n",
    "\n",
    "The circuit data and result data available in a job can be retrieved using the job name."
   ]
  },
  {
   "cell_type": "markdown",
   "metadata": {},
   "source": [
    "### Compile Job View\n",
    "\n",
    "The compile job view shows the job status and the compilation time. In addition, links to the input circuit and the output compiled circuit (job result) are also displayed.\n",
    "\n",
    "<div style=\"text-align: center;\">\n",
    "    <img src=\"figures/compile_job_view.png\" width=\"800\" />\n",
    "</div>\n",
    "\n",
    "The link to the compiled circuit (job result) redirects to a compiled circuit page displaying a circuit visual. \n",
    "\n",
    "<div style=\"text-align: center;\">\n",
    "    <img src=\"figures/compile_job_output.png\" width=\"800\" />\n",
    "</div>"
   ]
  },
  {
   "cell_type": "markdown",
   "metadata": {},
   "source": [
    "### Execute Job View\n",
    "\n",
    "The execute job view shows the job status and number of shots. Also displayed are links to the input circuit and the job result.\n",
    "\n",
    "<div style=\"text-align: center;\">\n",
    "    <img src=\"figures/execute_job_view.png\" width=\"800\" />\n",
    "</div>\n",
    "\n",
    "The job result link redirects to the job result page. Displayed are the following quantities: \n",
    "\n",
    "* *number of shots*\n",
    "* *backend snapshot*\n",
    "* *number of bits*\n",
    "* most probable measurement *outcome*.\n",
    "\n",
    "<div style=\"text-align: center;\">\n",
    "    <img src=\"figures/execute_job_output.png\" width=\"800\" />\n",
    "</div>\n",
    "\n",
    "An exportable table is visualized within the nexus portal below. This table shows: \n",
    "\n",
    "* the measurement *outcome* on the left;\n",
    "* the *count* (counting occurence);\n",
    "* a *probability* of occurence (count in proportion to population size).\n",
    "\n",
    "<div style=\"text-align: center;\">\n",
    "    <img src=\"figures/execute_job_table_output.png\" width=\"800\" />\n",
    "</div>"
   ]
  },
  {
   "cell_type": "markdown",
   "metadata": {},
   "source": [
    "### Calendar Visualisation"
   ]
  },
  {
   "cell_type": "markdown",
   "metadata": {},
   "source": [
    "The device tab in the top navigation bar leads to a page collating all available devices. Clicking the `H1-1` entry will lead to a new page dedicated to `H1-1`, displaying the following information:\n",
    "\n",
    "* Operational calendar for `H1-1`\n",
    "* Manufacturing specifications, such as two-qubit gate fidelity.\n",
    "* Native Gates on `H1-1`\n",
    "* Special features enabled by `H1-1`, such as Mid-circuit measurements and all-to-all connectivity.\n",
    "* Current status of the device.\n",
    "\n",
    "The information above is available for all H-Series devices.\n",
    "\n",
    "<div style=\"text-align: center;\">\n",
    "    <img src=\"figures/device-level view.png\" width=\"1500\" />\n",
    "</div>"
   ]
  },
  {
   "cell_type": "markdown",
   "metadata": {},
   "source": [
    "## Resource Visibility with `qnexus`"
   ]
  },
  {
   "cell_type": "markdown",
   "metadata": {},
   "source": [
    "`qnexus` is used to submit TKET circuits for compilation and H-Series execution to Nexus. The overall workflow is to construct a measurement circuit for submission with $n$ shots. Once submitted, a job will appear in nexus user portal with the status `Submitted`. Once the job is received by the H-Series queue, the status will be `Queued`. Once the job runs and has `Completed`, a result will be available to the end user. `qnexus` enables retrieval of the result. Even if the H-series job does not complete, results are partially retrievable with `qnexus`."
   ]
  },
  {
   "cell_type": "markdown",
   "metadata": {},
   "source": [
    "### Job Visibility"
   ]
  },
  {
   "cell_type": "markdown",
   "metadata": {},
   "source": [
    "Job status for jobs on H-Series devices can be queried using `qnexus`. The end user should be aware of the different status messages.\n",
    "\n",
    "* Queued\n",
    "* Running\n",
    "* Completed\n",
    "* Submitted\n",
    "* Error\n",
    "* Cancelled"
   ]
  },
  {
   "cell_type": "markdown",
   "metadata": {},
   "source": [
    "In the cell below, a new nexus project is retrieved, `Resource-Visibility-Demonstration`."
   ]
  },
  {
   "cell_type": "code",
   "execution_count": 1,
   "metadata": {},
   "outputs": [],
   "source": [
    "import qnexus\n",
    "\n",
    "project = qnexus.projects.get_or_create(\"Resource-Visibility-Demonstration\")\n",
    "qnexus.context.set_active_project(project)"
   ]
  },
  {
   "cell_type": "code",
   "execution_count": 2,
   "metadata": {},
   "outputs": [],
   "source": [
    "jobname_suffix = qnexus.projects.datetime.now().strftime(\"%Y_%m_%d-%H_%M_%S\")"
   ]
  },
  {
   "cell_type": "markdown",
   "metadata": {},
   "source": [
    "Next, a circuit is prepared using two native H-Series gates, `OpType.PhasedX` and `OpType.ZZMax`."
   ]
  },
  {
   "cell_type": "code",
   "execution_count": 3,
   "metadata": {},
   "outputs": [],
   "source": [
    "from pytket.circuit import Circuit\n",
    "from numpy.random import random_sample\n",
    "\n",
    "n_qubits = 10\n",
    "circuit = Circuit(n_qubits)\n",
    "px_angles = random_sample(n_qubits)\n",
    "\n",
    "for i in range(n_qubits):\n",
    "    circuit.PhasedX(px_angles[i], px_angles[i], i)\n",
    "\n",
    "for i, j in zip(range(0, n_qubits - 1), range(1, n_qubits)):\n",
    "    circuit.ZZMax(i, j)\n",
    "\n",
    "for i in range(n_qubits):\n",
    "    circuit.PhasedX(px_angles[i], px_angles[i], i)\n",
    "\n",
    "circuit.measure_all();"
   ]
  },
  {
   "cell_type": "code",
   "execution_count": 4,
   "metadata": {},
   "outputs": [],
   "source": [
    "ref = qnexus.circuits.upload(circuit=circuit, name=\"first-circuit\")"
   ]
  },
  {
   "cell_type": "markdown",
   "metadata": {},
   "source": [
    "Specify the `H2-1E` emulator using `QuantinuumConfig`."
   ]
  },
  {
   "cell_type": "code",
   "execution_count": 5,
   "metadata": {},
   "outputs": [],
   "source": [
    "config = qnexus.QuantinuumConfig(device_name=\"H2-1E\")"
   ]
  },
  {
   "cell_type": "markdown",
   "metadata": {},
   "source": [
    "The circuit is submitted to Nexus for compilation."
   ]
  },
  {
   "cell_type": "code",
   "execution_count": 6,
   "metadata": {},
   "outputs": [],
   "source": [
    "ref_compile_job = qnexus.start_compile_job(\n",
    "    circuits=[ref],\n",
    "    backend_config=config,\n",
    "    optimisation_level=2,\n",
    "    name=f\"compile-job-{jobname_suffix}\"\n",
    ")"
   ]
  },
  {
   "cell_type": "code",
   "execution_count": 7,
   "metadata": {},
   "outputs": [],
   "source": [
    "qnexus.jobs.wait_for(ref_compile_job)\n",
    "ref_compile_circuit = qnexus.jobs.results(ref_compile_job)[0].get_output()"
   ]
  },
  {
   "cell_type": "markdown",
   "metadata": {},
   "source": [
    "The circuit is submitted to H-series using the [`start_execute_job`]() call with 10 shots. It is recommended to save the reference to disk."
   ]
  },
  {
   "cell_type": "code",
   "execution_count": 8,
   "metadata": {},
   "outputs": [],
   "source": [
    "ref_execute_job = qnexus.start_execute_job(\n",
    "    circuits=[ref],\n",
    "    backend_config=config,\n",
    "    n_shots=[100],\n",
    "    name=f\"execute-job-{jobname_suffix}\"\n",
    ")"
   ]
  },
  {
   "cell_type": "markdown",
   "metadata": {},
   "source": [
    "The `qnexus` method [`jobs.status`]() enables status retrieval from H-series of the job just submitted."
   ]
  },
  {
   "cell_type": "code",
   "execution_count": 19,
   "metadata": {},
   "outputs": [],
   "source": [
    "status = qnexus.jobs.status(ref_execute_job)"
   ]
  },
  {
   "cell_type": "markdown",
   "metadata": {},
   "source": [
    "The `status` variable is an instance of the `qnexus` object [`qnexus.models.job_status.JobStatus`](). \n",
    "\n",
    "The `status` property of `JobStatus` returns the enum `Submitted`."
   ]
  },
  {
   "cell_type": "code",
   "execution_count": 20,
   "metadata": {},
   "outputs": [
    {
     "data": {
      "text/plain": [
       "<StatusEnum.SUBMITTED: 'Circuit has been submitted.'>"
      ]
     },
     "execution_count": 20,
     "metadata": {},
     "output_type": "execute_result"
    }
   ],
   "source": [
    "status.status"
   ]
  },
  {
   "cell_type": "markdown",
   "metadata": {},
   "source": [
    "The `message` property of `JobStatus` returns the status message as a python string."
   ]
  },
  {
   "cell_type": "code",
   "execution_count": 21,
   "metadata": {},
   "outputs": [
    {
     "name": "stdout",
     "output_type": "stream",
     "text": [
      "The job is submitted.\n"
     ]
    }
   ],
   "source": [
    "print(status.message)"
   ]
  },
  {
   "cell_type": "markdown",
   "metadata": {},
   "source": [
    "For the full `qnexus` workflow, please see this [link]()."
   ]
  },
  {
   "cell_type": "markdown",
   "metadata": {},
   "source": [
    "### Quota Visibility\n",
    "\n",
    "In addition to being authenticated, some operations in Nexus require you to have an appropriate Quota. These operations include:\n",
    "\n",
    "* using the Nexus Lab\n",
    "* compiling Circuits on Nexus\n",
    "* Execution on Nexus-hosted H-Series emulators\n",
    "* storage of Project data in the Nexus Database\n",
    "\n",
    "Your simulation, compilation and Nexus Lab quota will renew each month, but your database usage quota will not renew. In addition, if you have access to Quantinuum H-series devices you’ll need to have a HQC quota.\n",
    "\n",
    "To retrieve and display available quotas:"
   ]
  },
  {
   "cell_type": "code",
   "execution_count": 22,
   "metadata": {},
   "outputs": [
    {
     "data": {
      "text/plain": [
       "[Quota(name='database_usage', description='Total megabytes used to store scientific data.', usage=6.039527999999998, quota='No quota set for user'),\n",
       " Quota(name='jupyterhub', description='Total Jupyterhub notebook server running time, in seconds.', usage=14760.0, quota='No quota set for user'),\n",
       " Quota(name='simulation', description='Total CPU running time, in seconds.', usage=115961.977201078, quota='No quota set for user'),\n",
       " Quota(name='compilation', description='Total CPU running time, in seconds.', usage=23.182771105, quota='No quota set for user')]"
      ]
     },
     "execution_count": 22,
     "metadata": {},
     "output_type": "execute_result"
    }
   ],
   "source": [
    "import qnexus\n",
    "\n",
    "qnexus.quotas.get_all()"
   ]
  },
  {
   "cell_type": "markdown",
   "metadata": {},
   "source": [
    "Check remaining quotas:"
   ]
  },
  {
   "cell_type": "code",
   "execution_count": 23,
   "metadata": {},
   "outputs": [
    {
     "name": "stdout",
     "output_type": "stream",
     "text": [
      "Compilation quota OK!\n"
     ]
    }
   ],
   "source": [
    "if qnexus.quotas.check_quota(name=\"compilation\"):\n",
    "    print(\"Compilation quota OK!\")\n",
    "else:\n",
    "    print(\"No more compilation quota!\")"
   ]
  },
  {
   "cell_type": "markdown",
   "metadata": {},
   "source": [
    "### Project Visibility"
   ]
  },
  {
   "cell_type": "markdown",
   "metadata": {},
   "source": [
    "One of the core features of Quantinuum Nexus is a database for usefully structuring your scientific data. Data is contained in Projects. Below, data is retrieved for the `Resource-Visibility-Demonstration` project."
   ]
  },
  {
   "cell_type": "code",
   "execution_count": 24,
   "metadata": {},
   "outputs": [],
   "source": [
    "import qnexus\n",
    "\n",
    "project_ref = qnexus.projects.get(name_like=\"Resource-Visibility-Demonstration\")"
   ]
  },
  {
   "cell_type": "markdown",
   "metadata": {},
   "source": [
    "The project reference can be passed to the `summarize` method to display a summary of the project."
   ]
  },
  {
   "cell_type": "code",
   "execution_count": 25,
   "metadata": {},
   "outputs": [
    {
     "data": {
      "text/html": [
       "<div>\n",
       "<style scoped>\n",
       "    .dataframe tbody tr th:only-of-type {\n",
       "        vertical-align: middle;\n",
       "    }\n",
       "\n",
       "    .dataframe tbody tr th {\n",
       "        vertical-align: top;\n",
       "    }\n",
       "\n",
       "    .dataframe thead th {\n",
       "        text-align: right;\n",
       "    }\n",
       "</style>\n",
       "<table border=\"1\" class=\"dataframe\">\n",
       "  <thead>\n",
       "    <tr style=\"text-align: right;\">\n",
       "      <th></th>\n",
       "      <th>project</th>\n",
       "      <th>total_jobs</th>\n",
       "      <th>pending_jobs</th>\n",
       "      <th>cancelled_jobs</th>\n",
       "      <th>errored_jobs</th>\n",
       "      <th>completed_jobs</th>\n",
       "    </tr>\n",
       "  </thead>\n",
       "  <tbody>\n",
       "    <tr>\n",
       "      <th>0</th>\n",
       "      <td>Resource-Visibility-Demonstration</td>\n",
       "      <td>8</td>\n",
       "      <td>1</td>\n",
       "      <td>0</td>\n",
       "      <td>1</td>\n",
       "      <td>6</td>\n",
       "    </tr>\n",
       "  </tbody>\n",
       "</table>\n",
       "</div>"
      ],
      "text/plain": [
       "                             project  total_jobs  pending_jobs  \\\n",
       "0  Resource-Visibility-Demonstration           8             1   \n",
       "\n",
       "   cancelled_jobs  errored_jobs  completed_jobs  \n",
       "0               0             1               6  "
      ]
     },
     "execution_count": 25,
     "metadata": {},
     "output_type": "execute_result"
    }
   ],
   "source": [
    "qnexus.projects.summarize(project_ref)"
   ]
  },
  {
   "cell_type": "markdown",
   "metadata": {},
   "source": [
    "All the jobs for the project can be retrieved using the `get_all` method. Data is displayed below using `df`."
   ]
  },
  {
   "cell_type": "code",
   "execution_count": 27,
   "metadata": {},
   "outputs": [
    {
     "data": {
      "text/html": [
       "<div>\n",
       "<style scoped>\n",
       "    .dataframe tbody tr th:only-of-type {\n",
       "        vertical-align: middle;\n",
       "    }\n",
       "\n",
       "    .dataframe tbody tr th {\n",
       "        vertical-align: top;\n",
       "    }\n",
       "\n",
       "    .dataframe thead th {\n",
       "        text-align: right;\n",
       "    }\n",
       "</style>\n",
       "<table border=\"1\" class=\"dataframe\">\n",
       "  <thead>\n",
       "    <tr style=\"text-align: right;\">\n",
       "      <th></th>\n",
       "      <th>name</th>\n",
       "      <th>description</th>\n",
       "      <th>created</th>\n",
       "      <th>modified</th>\n",
       "      <th>job_type</th>\n",
       "      <th>last_status</th>\n",
       "      <th>project</th>\n",
       "      <th>id</th>\n",
       "    </tr>\n",
       "  </thead>\n",
       "  <tbody>\n",
       "    <tr>\n",
       "      <th>0</th>\n",
       "      <td>compile-job-2024_07_25-17_55_26</td>\n",
       "      <td></td>\n",
       "      <td>2024-07-25 16:59:28.395905+00:00</td>\n",
       "      <td>2024-07-25 16:59:42.668214+00:00</td>\n",
       "      <td>JobType.COMPILE</td>\n",
       "      <td>StatusEnum.COMPLETED</td>\n",
       "      <td>Resource-Visibility-Demonstration</td>\n",
       "      <td>a2176b4a-6281-46e9-87c2-52dd8a64b6df</td>\n",
       "    </tr>\n",
       "    <tr>\n",
       "      <th>1</th>\n",
       "      <td>execute-job-2024_07_25-17_55_26</td>\n",
       "      <td></td>\n",
       "      <td>2024-07-25 17:01:32.131770+00:00</td>\n",
       "      <td>2024-07-25 17:02:03.653537+00:00</td>\n",
       "      <td>JobType.EXECUTE</td>\n",
       "      <td>StatusEnum.ERROR</td>\n",
       "      <td>Resource-Visibility-Demonstration</td>\n",
       "      <td>c6957370-556a-4cc2-a4c3-434324a8d2cc</td>\n",
       "    </tr>\n",
       "    <tr>\n",
       "      <th>2</th>\n",
       "      <td>compile-job-2024_07_25-18_03_43</td>\n",
       "      <td></td>\n",
       "      <td>2024-07-25 17:03:46.873396+00:00</td>\n",
       "      <td>2024-07-25 17:03:49.840371+00:00</td>\n",
       "      <td>JobType.COMPILE</td>\n",
       "      <td>StatusEnum.COMPLETED</td>\n",
       "      <td>Resource-Visibility-Demonstration</td>\n",
       "      <td>72ee0e70-0d07-49cb-8b47-c423d47ce336</td>\n",
       "    </tr>\n",
       "    <tr>\n",
       "      <th>3</th>\n",
       "      <td>execute-job-2024_07_25-18_03_43</td>\n",
       "      <td></td>\n",
       "      <td>2024-07-25 17:05:26.978754+00:00</td>\n",
       "      <td>2024-07-25 17:07:04.087961+00:00</td>\n",
       "      <td>JobType.EXECUTE</td>\n",
       "      <td>StatusEnum.COMPLETED</td>\n",
       "      <td>Resource-Visibility-Demonstration</td>\n",
       "      <td>1acd1529-c140-4fa0-a2c2-0b32502e8859</td>\n",
       "    </tr>\n",
       "    <tr>\n",
       "      <th>4</th>\n",
       "      <td>compile-job-2024_07_25-18_11_39</td>\n",
       "      <td></td>\n",
       "      <td>2024-07-25 17:11:40.421718+00:00</td>\n",
       "      <td>2024-07-25 17:11:42.876238+00:00</td>\n",
       "      <td>JobType.COMPILE</td>\n",
       "      <td>StatusEnum.COMPLETED</td>\n",
       "      <td>Resource-Visibility-Demonstration</td>\n",
       "      <td>5ca5fbb1-5aef-4d14-b51e-912bba625830</td>\n",
       "    </tr>\n",
       "    <tr>\n",
       "      <th>5</th>\n",
       "      <td>execute-job-2024_07_25-18_11_39</td>\n",
       "      <td></td>\n",
       "      <td>2024-07-25 17:11:51.980082+00:00</td>\n",
       "      <td>2024-07-25 17:13:03.988641+00:00</td>\n",
       "      <td>JobType.EXECUTE</td>\n",
       "      <td>StatusEnum.COMPLETED</td>\n",
       "      <td>Resource-Visibility-Demonstration</td>\n",
       "      <td>3c89b971-2f83-4977-b8f0-35e5765b632b</td>\n",
       "    </tr>\n",
       "    <tr>\n",
       "      <th>6</th>\n",
       "      <td>compile-job-2024_07_25-18_15_35</td>\n",
       "      <td></td>\n",
       "      <td>2024-07-25 17:15:37.213636+00:00</td>\n",
       "      <td>2024-07-25 17:15:39.781830+00:00</td>\n",
       "      <td>JobType.COMPILE</td>\n",
       "      <td>StatusEnum.COMPLETED</td>\n",
       "      <td>Resource-Visibility-Demonstration</td>\n",
       "      <td>bf541bdf-c9d6-4a8b-a330-190034f6c3bb</td>\n",
       "    </tr>\n",
       "    <tr>\n",
       "      <th>7</th>\n",
       "      <td>execute-job-2024_07_25-18_15_35</td>\n",
       "      <td></td>\n",
       "      <td>2024-07-25 17:15:48.772359+00:00</td>\n",
       "      <td>2024-07-25 17:26:04.234200+00:00</td>\n",
       "      <td>JobType.EXECUTE</td>\n",
       "      <td>StatusEnum.COMPLETED</td>\n",
       "      <td>Resource-Visibility-Demonstration</td>\n",
       "      <td>a03b328c-ed40-4122-b60d-a1127aba0355</td>\n",
       "    </tr>\n",
       "  </tbody>\n",
       "</table>\n",
       "</div>"
      ],
      "text/plain": [
       "                              name description  \\\n",
       "0  compile-job-2024_07_25-17_55_26               \n",
       "1  execute-job-2024_07_25-17_55_26               \n",
       "2  compile-job-2024_07_25-18_03_43               \n",
       "3  execute-job-2024_07_25-18_03_43               \n",
       "4  compile-job-2024_07_25-18_11_39               \n",
       "5  execute-job-2024_07_25-18_11_39               \n",
       "6  compile-job-2024_07_25-18_15_35               \n",
       "7  execute-job-2024_07_25-18_15_35               \n",
       "\n",
       "                           created                         modified  \\\n",
       "0 2024-07-25 16:59:28.395905+00:00 2024-07-25 16:59:42.668214+00:00   \n",
       "1 2024-07-25 17:01:32.131770+00:00 2024-07-25 17:02:03.653537+00:00   \n",
       "2 2024-07-25 17:03:46.873396+00:00 2024-07-25 17:03:49.840371+00:00   \n",
       "3 2024-07-25 17:05:26.978754+00:00 2024-07-25 17:07:04.087961+00:00   \n",
       "4 2024-07-25 17:11:40.421718+00:00 2024-07-25 17:11:42.876238+00:00   \n",
       "5 2024-07-25 17:11:51.980082+00:00 2024-07-25 17:13:03.988641+00:00   \n",
       "6 2024-07-25 17:15:37.213636+00:00 2024-07-25 17:15:39.781830+00:00   \n",
       "7 2024-07-25 17:15:48.772359+00:00 2024-07-25 17:26:04.234200+00:00   \n",
       "\n",
       "          job_type           last_status                            project  \\\n",
       "0  JobType.COMPILE  StatusEnum.COMPLETED  Resource-Visibility-Demonstration   \n",
       "1  JobType.EXECUTE      StatusEnum.ERROR  Resource-Visibility-Demonstration   \n",
       "2  JobType.COMPILE  StatusEnum.COMPLETED  Resource-Visibility-Demonstration   \n",
       "3  JobType.EXECUTE  StatusEnum.COMPLETED  Resource-Visibility-Demonstration   \n",
       "4  JobType.COMPILE  StatusEnum.COMPLETED  Resource-Visibility-Demonstration   \n",
       "5  JobType.EXECUTE  StatusEnum.COMPLETED  Resource-Visibility-Demonstration   \n",
       "6  JobType.COMPILE  StatusEnum.COMPLETED  Resource-Visibility-Demonstration   \n",
       "7  JobType.EXECUTE  StatusEnum.COMPLETED  Resource-Visibility-Demonstration   \n",
       "\n",
       "                                     id  \n",
       "0  a2176b4a-6281-46e9-87c2-52dd8a64b6df  \n",
       "1  c6957370-556a-4cc2-a4c3-434324a8d2cc  \n",
       "2  72ee0e70-0d07-49cb-8b47-c423d47ce336  \n",
       "3  1acd1529-c140-4fa0-a2c2-0b32502e8859  \n",
       "4  5ca5fbb1-5aef-4d14-b51e-912bba625830  \n",
       "5  3c89b971-2f83-4977-b8f0-35e5765b632b  \n",
       "6  bf541bdf-c9d6-4a8b-a330-190034f6c3bb  \n",
       "7  a03b328c-ed40-4122-b60d-a1127aba0355  "
      ]
     },
     "execution_count": 27,
     "metadata": {},
     "output_type": "execute_result"
    }
   ],
   "source": [
    "nexus_iterator = qnexus.jobs.get_all(project=project_ref)\n",
    "nexus_iterator.df()"
   ]
  },
  {
   "cell_type": "markdown",
   "metadata": {},
   "source": [
    "A specific job reference can be selected from the `NexusIterator` instance and the qnexus.jobs module can be used to access job-level data."
   ]
  },
  {
   "cell_type": "code",
   "execution_count": 29,
   "metadata": {},
   "outputs": [
    {
     "data": {
      "text/plain": [
       "CompileJobRef(id=UUID('a2176b4a-6281-46e9-87c2-52dd8a64b6df'), annotations=Annotations(name='compile-job-2024_07_25-17_55_26', description='', properties=OrderedDict(), created=datetime.datetime(2024, 7, 25, 16, 59, 28, 395905, tzinfo=TzInfo(UTC)), modified=datetime.datetime(2024, 7, 25, 16, 59, 42, 668214, tzinfo=TzInfo(UTC))), job_type=<JobType.COMPILE: 'compile'>, last_status=<StatusEnum.COMPLETED: 'Circuit has completed. Results are ready.'>, last_message='The job is completed.', project=ProjectRef(id=UUID('f0f866d0-73aa-4ea2-a15d-436f38551dd5'), annotations=Annotations(name='Resource-Visibility-Demonstration', description=None, properties=OrderedDict(), created=datetime.datetime(2024, 7, 25, 16, 53, 50, 728257, tzinfo=TzInfo(UTC)), modified=datetime.datetime(2024, 7, 25, 16, 53, 50, 728257, tzinfo=TzInfo(UTC))), contents_modified=datetime.datetime(2024, 7, 25, 17, 26, 4, 234200, tzinfo=TzInfo(UTC)), type='ProjectRef'), type='CompileJobRef')"
      ]
     },
     "execution_count": 29,
     "metadata": {},
     "output_type": "execute_result"
    }
   ],
   "source": [
    "ref_compile_job = nexus_iterator.list()[0]"
   ]
  },
  {
   "cell_type": "markdown",
   "metadata": {},
   "source": [
    "The annotations field displays useful metadata for the compile job."
   ]
  },
  {
   "cell_type": "code",
   "execution_count": 31,
   "metadata": {},
   "outputs": [
    {
     "data": {
      "text/plain": [
       "Annotations(name='compile-job-2024_07_25-18_15_35', description='', properties=OrderedDict(), created=datetime.datetime(2024, 7, 25, 17, 15, 37, 213636, tzinfo=TzInfo(UTC)), modified=datetime.datetime(2024, 7, 25, 17, 15, 37, 213636, tzinfo=TzInfo(UTC)))"
      ]
     },
     "execution_count": 31,
     "metadata": {},
     "output_type": "execute_result"
    }
   ],
   "source": [
    "ref_compile_job.annotations"
   ]
  },
  {
   "cell_type": "markdown",
   "metadata": {},
   "source": [
    "The compilation passes used in the compile job can also be visualized by retrieving the compile job result reference and calling `get_passes`."
   ]
  },
  {
   "cell_type": "code",
   "execution_count": 35,
   "metadata": {},
   "outputs": [],
   "source": [
    "ref_compile_result = qnexus.jobs.results(ref_compile_job)[0]"
   ]
  },
  {
   "cell_type": "code",
   "execution_count": 36,
   "metadata": {},
   "outputs": [
    {
     "data": {
      "text/html": [
       "<div>\n",
       "<style scoped>\n",
       "    .dataframe tbody tr th:only-of-type {\n",
       "        vertical-align: middle;\n",
       "    }\n",
       "\n",
       "    .dataframe tbody tr th {\n",
       "        vertical-align: top;\n",
       "    }\n",
       "\n",
       "    .dataframe thead th {\n",
       "        text-align: right;\n",
       "    }\n",
       "</style>\n",
       "<table border=\"1\" class=\"dataframe\">\n",
       "  <thead>\n",
       "    <tr style=\"text-align: right;\">\n",
       "      <th></th>\n",
       "      <th>pass name</th>\n",
       "      <th>input</th>\n",
       "      <th>output</th>\n",
       "      <th>id</th>\n",
       "    </tr>\n",
       "  </thead>\n",
       "  <tbody>\n",
       "    <tr>\n",
       "      <th>0</th>\n",
       "      <td>DecomposeBoxes</td>\n",
       "      <td>first-circuit</td>\n",
       "      <td>first-circuit</td>\n",
       "      <td>40f763eb-4e23-427c-9f1c-25c2f0b15d27</td>\n",
       "    </tr>\n",
       "    <tr>\n",
       "      <th>1</th>\n",
       "      <td>CustomPass</td>\n",
       "      <td>first-circuit</td>\n",
       "      <td>first-circuit</td>\n",
       "      <td>a0332424-6bba-47e8-97f4-0866d0b6a205</td>\n",
       "    </tr>\n",
       "    <tr>\n",
       "      <th>2</th>\n",
       "      <td>FullPeepholeOptimise</td>\n",
       "      <td>first-circuit</td>\n",
       "      <td>first-circuit-QuantinuumBackend-2</td>\n",
       "      <td>13e5eb01-d45a-4148-b9b6-6afe5d94b10b</td>\n",
       "    </tr>\n",
       "    <tr>\n",
       "      <th>3</th>\n",
       "      <td>NormaliseTK2</td>\n",
       "      <td>first-circuit-QuantinuumBackend-2</td>\n",
       "      <td>first-circuit-QuantinuumBackend-2</td>\n",
       "      <td>23886c3d-e352-44fa-9473-52338e597bd5</td>\n",
       "    </tr>\n",
       "    <tr>\n",
       "      <th>4</th>\n",
       "      <td>DecomposeTK2</td>\n",
       "      <td>first-circuit-QuantinuumBackend-2</td>\n",
       "      <td>first-circuit-QuantinuumBackend-3</td>\n",
       "      <td>d0e0e6db-28f4-47c7-82be-149d169ea79a</td>\n",
       "    </tr>\n",
       "    <tr>\n",
       "      <th>5</th>\n",
       "      <td>AutoRebase</td>\n",
       "      <td>first-circuit-QuantinuumBackend-3</td>\n",
       "      <td>first-circuit-QuantinuumBackend-4</td>\n",
       "      <td>13c1e648-d60a-443b-b3ba-7b4eab903c4a</td>\n",
       "    </tr>\n",
       "    <tr>\n",
       "      <th>6</th>\n",
       "      <td>RemoveRedundancies</td>\n",
       "      <td>first-circuit-QuantinuumBackend-4</td>\n",
       "      <td>first-circuit-QuantinuumBackend-5</td>\n",
       "      <td>6c60215d-a259-402b-912b-8dfc7634623e</td>\n",
       "    </tr>\n",
       "    <tr>\n",
       "      <th>7</th>\n",
       "      <td>AutoSquash</td>\n",
       "      <td>first-circuit-QuantinuumBackend-5</td>\n",
       "      <td>first-circuit-QuantinuumBackend-6</td>\n",
       "      <td>7678a67d-cf68-4ee5-8c15-b62e9375e17e</td>\n",
       "    </tr>\n",
       "    <tr>\n",
       "      <th>8</th>\n",
       "      <td>RemoveRedundancies</td>\n",
       "      <td>first-circuit-QuantinuumBackend-6</td>\n",
       "      <td>first-circuit-QuantinuumBackend-final</td>\n",
       "      <td>70f261b4-7f4d-4614-98b7-29e5b8358dab</td>\n",
       "    </tr>\n",
       "    <tr>\n",
       "      <th>9</th>\n",
       "      <td>FlattenRelabelRegistersPass</td>\n",
       "      <td>first-circuit-QuantinuumBackend-final</td>\n",
       "      <td>first-circuit-QuantinuumBackend-final</td>\n",
       "      <td>a1f2d545-856b-4255-8acf-ee66c6f9a495</td>\n",
       "    </tr>\n",
       "  </tbody>\n",
       "</table>\n",
       "</div>"
      ],
      "text/plain": [
       "                     pass name                                  input  \\\n",
       "0               DecomposeBoxes                          first-circuit   \n",
       "1                   CustomPass                          first-circuit   \n",
       "2         FullPeepholeOptimise                          first-circuit   \n",
       "3                 NormaliseTK2      first-circuit-QuantinuumBackend-2   \n",
       "4                 DecomposeTK2      first-circuit-QuantinuumBackend-2   \n",
       "5                   AutoRebase      first-circuit-QuantinuumBackend-3   \n",
       "6           RemoveRedundancies      first-circuit-QuantinuumBackend-4   \n",
       "7                   AutoSquash      first-circuit-QuantinuumBackend-5   \n",
       "8           RemoveRedundancies      first-circuit-QuantinuumBackend-6   \n",
       "9  FlattenRelabelRegistersPass  first-circuit-QuantinuumBackend-final   \n",
       "\n",
       "                                  output                                    id  \n",
       "0                          first-circuit  40f763eb-4e23-427c-9f1c-25c2f0b15d27  \n",
       "1                          first-circuit  a0332424-6bba-47e8-97f4-0866d0b6a205  \n",
       "2      first-circuit-QuantinuumBackend-2  13e5eb01-d45a-4148-b9b6-6afe5d94b10b  \n",
       "3      first-circuit-QuantinuumBackend-2  23886c3d-e352-44fa-9473-52338e597bd5  \n",
       "4      first-circuit-QuantinuumBackend-3  d0e0e6db-28f4-47c7-82be-149d169ea79a  \n",
       "5      first-circuit-QuantinuumBackend-4  13c1e648-d60a-443b-b3ba-7b4eab903c4a  \n",
       "6      first-circuit-QuantinuumBackend-5  6c60215d-a259-402b-912b-8dfc7634623e  \n",
       "7      first-circuit-QuantinuumBackend-6  7678a67d-cf68-4ee5-8c15-b62e9375e17e  \n",
       "8  first-circuit-QuantinuumBackend-final  70f261b4-7f4d-4614-98b7-29e5b8358dab  \n",
       "9  first-circuit-QuantinuumBackend-final  a1f2d545-856b-4255-8acf-ee66c6f9a495  "
      ]
     },
     "execution_count": 36,
     "metadata": {},
     "output_type": "execute_result"
    }
   ],
   "source": [
    "ref_compile_result.get_passes().df()"
   ]
  },
  {
   "cell_type": "markdown",
   "metadata": {},
   "source": [
    "The input circuit reference can be obtained using `get_input`."
   ]
  },
  {
   "cell_type": "code",
   "execution_count": 38,
   "metadata": {},
   "outputs": [
    {
     "data": {
      "text/html": [
       "\n",
       "\n",
       "\n",
       "\n",
       "\n",
       "\n",
       "<div style=\"resize: vertical; overflow: auto; height: 400px; display: block\">\n",
       "    <iframe srcdoc=\"\n",
       "&lt;!DOCTYPE html&gt;\n",
       "&lt;html lang=&#34;en&#34;&gt;\n",
       "&lt;head&gt;\n",
       "    &lt;meta charset=&#34;UTF-8&#34;&gt;\n",
       "    &lt;!-- Download Vue 3--&gt;\n",
       "&lt;script type=&#34;application/javascript&#34; src=&#34;https://cdn.jsdelivr.net/npm/vue@3&#34;&gt;&lt;/script&gt;\n",
       "&lt;!-- Download Circuit Renderer with styles --&gt;\n",
       "&lt;script type=&#34;application/javascript&#34; src=&#34;https://unpkg.com/pytket-circuit-renderer@0.8/dist/pytket-circuit-renderer.umd.js&#34;&gt;&lt;/script&gt;\n",
       "&lt;link rel=&#34;stylesheet&#34; href=&#34;https://unpkg.com/pytket-circuit-renderer@0.8/dist/pytket-circuit-renderer.css&#34;&gt;\n",
       "&lt;/head&gt;\n",
       "&lt;body&gt;\n",
       "\n",
       "\n",
       "\n",
       "    &lt;div id=&#34;circuit-display-vue-container-80998807-2911-4aee-b56b-1abf60bb5414&#34; class=&#34;pytket-circuit-display-container&#34;&gt;\n",
       "        &lt;div style=&#34;display: none&#34;&gt;\n",
       "            &lt;div id=&#34;circuit-json-to-display&#34;&gt;{&#34;bits&#34;: [[&#34;c&#34;, [0]], [&#34;c&#34;, [1]], [&#34;c&#34;, [2]], [&#34;c&#34;, [3]], [&#34;c&#34;, [4]], [&#34;c&#34;, [5]], [&#34;c&#34;, [6]], [&#34;c&#34;, [7]], [&#34;c&#34;, [8]], [&#34;c&#34;, [9]]], &#34;commands&#34;: [{&#34;args&#34;: [[&#34;q&#34;, [0]]], &#34;op&#34;: {&#34;params&#34;: [&#34;0.169248357953945&#34;, &#34;0.169248357953945&#34;], &#34;type&#34;: &#34;PhasedX&#34;}}, {&#34;args&#34;: [[&#34;q&#34;, [1]]], &#34;op&#34;: {&#34;params&#34;: [&#34;0.669724328148549&#34;, &#34;0.669724328148549&#34;], &#34;type&#34;: &#34;PhasedX&#34;}}, {&#34;args&#34;: [[&#34;q&#34;, [2]]], &#34;op&#34;: {&#34;params&#34;: [&#34;0.461972887181641&#34;, &#34;0.461972887181641&#34;], &#34;type&#34;: &#34;PhasedX&#34;}}, {&#34;args&#34;: [[&#34;q&#34;, [3]]], &#34;op&#34;: {&#34;params&#34;: [&#34;0.369847223423358&#34;, &#34;0.369847223423358&#34;], &#34;type&#34;: &#34;PhasedX&#34;}}, {&#34;args&#34;: [[&#34;q&#34;, [4]]], &#34;op&#34;: {&#34;params&#34;: [&#34;0.899781788085311&#34;, &#34;0.899781788085311&#34;], &#34;type&#34;: &#34;PhasedX&#34;}}, {&#34;args&#34;: [[&#34;q&#34;, [5]]], &#34;op&#34;: {&#34;params&#34;: [&#34;0.68397434117064&#34;, &#34;0.68397434117064&#34;], &#34;type&#34;: &#34;PhasedX&#34;}}, {&#34;args&#34;: [[&#34;q&#34;, [6]]], &#34;op&#34;: {&#34;params&#34;: [&#34;0.510514688025923&#34;, &#34;0.510514688025923&#34;], &#34;type&#34;: &#34;PhasedX&#34;}}, {&#34;args&#34;: [[&#34;q&#34;, [7]]], &#34;op&#34;: {&#34;params&#34;: [&#34;0.0719217917582291&#34;, &#34;0.0719217917582291&#34;], &#34;type&#34;: &#34;PhasedX&#34;}}, {&#34;args&#34;: [[&#34;q&#34;, [8]]], &#34;op&#34;: {&#34;params&#34;: [&#34;0.369184106729792&#34;, &#34;0.369184106729792&#34;], &#34;type&#34;: &#34;PhasedX&#34;}}, {&#34;args&#34;: [[&#34;q&#34;, [9]]], &#34;op&#34;: {&#34;params&#34;: [&#34;0.898493496932636&#34;, &#34;0.898493496932636&#34;], &#34;type&#34;: &#34;PhasedX&#34;}}, {&#34;args&#34;: [[&#34;q&#34;, [0]], [&#34;q&#34;, [1]]], &#34;op&#34;: {&#34;type&#34;: &#34;ZZMax&#34;}}, {&#34;args&#34;: [[&#34;q&#34;, [0]]], &#34;op&#34;: {&#34;params&#34;: [&#34;0.169248357953945&#34;, &#34;0.169248357953945&#34;], &#34;type&#34;: &#34;PhasedX&#34;}}, {&#34;args&#34;: [[&#34;q&#34;, [1]], [&#34;q&#34;, [2]]], &#34;op&#34;: {&#34;type&#34;: &#34;ZZMax&#34;}}, {&#34;args&#34;: [[&#34;q&#34;, [0]], [&#34;c&#34;, [0]]], &#34;op&#34;: {&#34;type&#34;: &#34;Measure&#34;}}, {&#34;args&#34;: [[&#34;q&#34;, [1]]], &#34;op&#34;: {&#34;params&#34;: [&#34;0.669724328148549&#34;, &#34;0.669724328148549&#34;], &#34;type&#34;: &#34;PhasedX&#34;}}, {&#34;args&#34;: [[&#34;q&#34;, [2]], [&#34;q&#34;, [3]]], &#34;op&#34;: {&#34;type&#34;: &#34;ZZMax&#34;}}, {&#34;args&#34;: [[&#34;q&#34;, [1]], [&#34;c&#34;, [1]]], &#34;op&#34;: {&#34;type&#34;: &#34;Measure&#34;}}, {&#34;args&#34;: [[&#34;q&#34;, [2]]], &#34;op&#34;: {&#34;params&#34;: [&#34;0.461972887181641&#34;, &#34;0.461972887181641&#34;], &#34;type&#34;: &#34;PhasedX&#34;}}, {&#34;args&#34;: [[&#34;q&#34;, [3]], [&#34;q&#34;, [4]]], &#34;op&#34;: {&#34;type&#34;: &#34;ZZMax&#34;}}, {&#34;args&#34;: [[&#34;q&#34;, [2]], [&#34;c&#34;, [2]]], &#34;op&#34;: {&#34;type&#34;: &#34;Measure&#34;}}, {&#34;args&#34;: [[&#34;q&#34;, [3]]], &#34;op&#34;: {&#34;params&#34;: [&#34;0.369847223423358&#34;, &#34;0.369847223423358&#34;], &#34;type&#34;: &#34;PhasedX&#34;}}, {&#34;args&#34;: [[&#34;q&#34;, [4]], [&#34;q&#34;, [5]]], &#34;op&#34;: {&#34;type&#34;: &#34;ZZMax&#34;}}, {&#34;args&#34;: [[&#34;q&#34;, [3]], [&#34;c&#34;, [3]]], &#34;op&#34;: {&#34;type&#34;: &#34;Measure&#34;}}, {&#34;args&#34;: [[&#34;q&#34;, [4]]], &#34;op&#34;: {&#34;params&#34;: [&#34;0.899781788085311&#34;, &#34;0.899781788085311&#34;], &#34;type&#34;: &#34;PhasedX&#34;}}, {&#34;args&#34;: [[&#34;q&#34;, [5]], [&#34;q&#34;, [6]]], &#34;op&#34;: {&#34;type&#34;: &#34;ZZMax&#34;}}, {&#34;args&#34;: [[&#34;q&#34;, [4]], [&#34;c&#34;, [4]]], &#34;op&#34;: {&#34;type&#34;: &#34;Measure&#34;}}, {&#34;args&#34;: [[&#34;q&#34;, [5]]], &#34;op&#34;: {&#34;params&#34;: [&#34;0.68397434117064&#34;, &#34;0.68397434117064&#34;], &#34;type&#34;: &#34;PhasedX&#34;}}, {&#34;args&#34;: [[&#34;q&#34;, [6]], [&#34;q&#34;, [7]]], &#34;op&#34;: {&#34;type&#34;: &#34;ZZMax&#34;}}, {&#34;args&#34;: [[&#34;q&#34;, [5]], [&#34;c&#34;, [5]]], &#34;op&#34;: {&#34;type&#34;: &#34;Measure&#34;}}, {&#34;args&#34;: [[&#34;q&#34;, [6]]], &#34;op&#34;: {&#34;params&#34;: [&#34;0.510514688025923&#34;, &#34;0.510514688025923&#34;], &#34;type&#34;: &#34;PhasedX&#34;}}, {&#34;args&#34;: [[&#34;q&#34;, [7]], [&#34;q&#34;, [8]]], &#34;op&#34;: {&#34;type&#34;: &#34;ZZMax&#34;}}, {&#34;args&#34;: [[&#34;q&#34;, [6]], [&#34;c&#34;, [6]]], &#34;op&#34;: {&#34;type&#34;: &#34;Measure&#34;}}, {&#34;args&#34;: [[&#34;q&#34;, [7]]], &#34;op&#34;: {&#34;params&#34;: [&#34;0.0719217917582291&#34;, &#34;0.0719217917582291&#34;], &#34;type&#34;: &#34;PhasedX&#34;}}, {&#34;args&#34;: [[&#34;q&#34;, [8]], [&#34;q&#34;, [9]]], &#34;op&#34;: {&#34;type&#34;: &#34;ZZMax&#34;}}, {&#34;args&#34;: [[&#34;q&#34;, [7]], [&#34;c&#34;, [7]]], &#34;op&#34;: {&#34;type&#34;: &#34;Measure&#34;}}, {&#34;args&#34;: [[&#34;q&#34;, [8]]], &#34;op&#34;: {&#34;params&#34;: [&#34;0.369184106729792&#34;, &#34;0.369184106729792&#34;], &#34;type&#34;: &#34;PhasedX&#34;}}, {&#34;args&#34;: [[&#34;q&#34;, [9]]], &#34;op&#34;: {&#34;params&#34;: [&#34;0.898493496932636&#34;, &#34;0.898493496932636&#34;], &#34;type&#34;: &#34;PhasedX&#34;}}, {&#34;args&#34;: [[&#34;q&#34;, [8]], [&#34;c&#34;, [8]]], &#34;op&#34;: {&#34;type&#34;: &#34;Measure&#34;}}, {&#34;args&#34;: [[&#34;q&#34;, [9]], [&#34;c&#34;, [9]]], &#34;op&#34;: {&#34;type&#34;: &#34;Measure&#34;}}], &#34;created_qubits&#34;: [], &#34;discarded_qubits&#34;: [], &#34;implicit_permutation&#34;: [[[&#34;q&#34;, [0]], [&#34;q&#34;, [0]]], [[&#34;q&#34;, [1]], [&#34;q&#34;, [1]]], [[&#34;q&#34;, [2]], [&#34;q&#34;, [2]]], [[&#34;q&#34;, [3]], [&#34;q&#34;, [3]]], [[&#34;q&#34;, [4]], [&#34;q&#34;, [4]]], [[&#34;q&#34;, [5]], [&#34;q&#34;, [5]]], [[&#34;q&#34;, [6]], [&#34;q&#34;, [6]]], [[&#34;q&#34;, [7]], [&#34;q&#34;, [7]]], [[&#34;q&#34;, [8]], [&#34;q&#34;, [8]]], [[&#34;q&#34;, [9]], [&#34;q&#34;, [9]]]], &#34;name&#34;: &#34;first-circuit&#34;, &#34;phase&#34;: &#34;0.0&#34;, &#34;qubits&#34;: [[&#34;q&#34;, [0]], [&#34;q&#34;, [1]], [&#34;q&#34;, [2]], [&#34;q&#34;, [3]], [&#34;q&#34;, [4]], [&#34;q&#34;, [5]], [&#34;q&#34;, [6]], [&#34;q&#34;, [7]], [&#34;q&#34;, [8]], [&#34;q&#34;, [9]]]}&lt;/div&gt;\n",
       "        &lt;/div&gt;\n",
       "        &lt;circuit-display-container\n",
       "                :circuit-element-str=&#34;&#39;#circuit-json-to-display&#39;&#34;\n",
       "                :init-render-options=&#34;initRenderOptions&#34;\n",
       "        &gt;&lt;/circuit-display-container&gt;\n",
       "    &lt;/div&gt;\n",
       "    &lt;script type=&#34;application/javascript&#34;&gt;\n",
       "      const circuitRendererUid = &#34;80998807-2911-4aee-b56b-1abf60bb5414&#34;;\n",
       "      const displayOptions = JSON.parse(&#39;{}&#39;);\n",
       "\n",
       "      // Script to initialise the circuit renderer app\n",
       "\n",
       "const { createApp } = Vue;\n",
       "const circuitDisplayContainer = window[&#34;pytket-circuit-renderer&#34;].default;\n",
       "// Init variables to be shared between circuit display instances\n",
       "if (typeof window.pytketCircuitDisplays === &#34;undefined&#34;) {\n",
       "    window.pytketCircuitDisplays = {};\n",
       "}\n",
       "// Create the root Vue component\n",
       "const app = createApp({\n",
       "    delimiters: [&#39;[[#&#39;, &#39;#]]&#39;],\n",
       "    components: { circuitDisplayContainer },\n",
       "    data () {\n",
       "      return {\n",
       "        initRenderOptions: displayOptions,\n",
       "      }\n",
       "    }\n",
       "})\n",
       "app.config.unwrapInjectedRef = true;\n",
       "app.mount(&#34;#circuit-display-vue-container-&#34;+circuitRendererUid);\n",
       "window.pytketCircuitDisplays[circuitRendererUid] = app;\n",
       "    &lt;/script&gt;\n",
       "\n",
       "\n",
       "\n",
       "&lt;/body&gt;\n",
       "&lt;/html&gt;\n",
       "\"\n",
       "            width=\"100%\" height=\"100%\"\n",
       "            style=\"border: none; outline: none; overflow: auto\"></iframe>\n",
       "</div>\n",
       "\n"
      ],
      "text/plain": [
       "<IPython.core.display.HTML object>"
      ]
     },
     "metadata": {},
     "output_type": "display_data"
    }
   ],
   "source": [
    "from pytket.circuit.display import render_circuit_jupyter\n",
    "\n",
    "ref_input_circuit = ref_compile_result.get_input()\n",
    "render_circuit_jupyter(ref_input_circuit.download_circuit())"
   ]
  },
  {
   "cell_type": "markdown",
   "metadata": {},
   "source": [
    "The input circuit reference can be obtained using `get_output`."
   ]
  },
  {
   "cell_type": "code",
   "execution_count": 39,
   "metadata": {},
   "outputs": [
    {
     "data": {
      "text/html": [
       "\n",
       "\n",
       "\n",
       "\n",
       "\n",
       "\n",
       "<div style=\"resize: vertical; overflow: auto; height: 400px; display: block\">\n",
       "    <iframe srcdoc=\"\n",
       "&lt;!DOCTYPE html&gt;\n",
       "&lt;html lang=&#34;en&#34;&gt;\n",
       "&lt;head&gt;\n",
       "    &lt;meta charset=&#34;UTF-8&#34;&gt;\n",
       "    &lt;!-- Download Vue 3--&gt;\n",
       "&lt;script type=&#34;application/javascript&#34; src=&#34;https://cdn.jsdelivr.net/npm/vue@3&#34;&gt;&lt;/script&gt;\n",
       "&lt;!-- Download Circuit Renderer with styles --&gt;\n",
       "&lt;script type=&#34;application/javascript&#34; src=&#34;https://unpkg.com/pytket-circuit-renderer@0.8/dist/pytket-circuit-renderer.umd.js&#34;&gt;&lt;/script&gt;\n",
       "&lt;link rel=&#34;stylesheet&#34; href=&#34;https://unpkg.com/pytket-circuit-renderer@0.8/dist/pytket-circuit-renderer.css&#34;&gt;\n",
       "&lt;/head&gt;\n",
       "&lt;body&gt;\n",
       "\n",
       "\n",
       "\n",
       "    &lt;div id=&#34;circuit-display-vue-container-48d68797-c43c-4cb4-8dea-49b8c85b18e0&#34; class=&#34;pytket-circuit-display-container&#34;&gt;\n",
       "        &lt;div style=&#34;display: none&#34;&gt;\n",
       "            &lt;div id=&#34;circuit-json-to-display&#34;&gt;{&#34;bits&#34;: [[&#34;c&#34;, [0]], [&#34;c&#34;, [1]], [&#34;c&#34;, [2]], [&#34;c&#34;, [3]], [&#34;c&#34;, [4]], [&#34;c&#34;, [5]], [&#34;c&#34;, [6]], [&#34;c&#34;, [7]], [&#34;c&#34;, [8]], [&#34;c&#34;, [9]]], &#34;commands&#34;: [{&#34;args&#34;: [[&#34;q&#34;, [0]]], &#34;op&#34;: {&#34;params&#34;: [&#34;0.169248357953944&#34;, &#34;2.16924835795395&#34;], &#34;type&#34;: &#34;PhasedX&#34;}}, {&#34;args&#34;: [[&#34;q&#34;, [1]]], &#34;op&#34;: {&#34;params&#34;: [&#34;0.330275671851451&#34;, &#34;1.66972432814855&#34;], &#34;type&#34;: &#34;PhasedX&#34;}}, {&#34;args&#34;: [[&#34;q&#34;, [2]]], &#34;op&#34;: {&#34;params&#34;: [&#34;0.538027112818361&#34;, &#34;-0.538027112818359&#34;], &#34;type&#34;: &#34;PhasedX&#34;}}, {&#34;args&#34;: [[&#34;q&#34;, [3]]], &#34;op&#34;: {&#34;params&#34;: [&#34;0.630152776576642&#34;, &#34;-0.630152776576642&#34;], &#34;type&#34;: &#34;PhasedX&#34;}}, {&#34;args&#34;: [[&#34;q&#34;, [4]]], &#34;op&#34;: {&#34;params&#34;: [&#34;0.100218211914689&#34;, &#34;1.89978178808531&#34;], &#34;type&#34;: &#34;PhasedX&#34;}}, {&#34;args&#34;: [[&#34;q&#34;, [5]]], &#34;op&#34;: {&#34;params&#34;: [&#34;0.316025658829359&#34;, &#34;1.68397434117064&#34;], &#34;type&#34;: &#34;PhasedX&#34;}}, {&#34;args&#34;: [[&#34;q&#34;, [6]]], &#34;op&#34;: {&#34;params&#34;: [&#34;0.489485311974075&#34;, &#34;1.51051468802592&#34;], &#34;type&#34;: &#34;PhasedX&#34;}}, {&#34;args&#34;: [[&#34;q&#34;, [7]]], &#34;op&#34;: {&#34;params&#34;: [&#34;0.92807820824177&#34;, &#34;-0.92807820824177&#34;], &#34;type&#34;: &#34;PhasedX&#34;}}, {&#34;args&#34;: [[&#34;q&#34;, [8]]], &#34;op&#34;: {&#34;params&#34;: [&#34;0.630815893270208&#34;, &#34;-0.630815893270208&#34;], &#34;type&#34;: &#34;PhasedX&#34;}}, {&#34;args&#34;: [[&#34;q&#34;, [9]]], &#34;op&#34;: {&#34;params&#34;: [&#34;0.898493496932636&#34;, &#34;-1.10150650306736&#34;], &#34;type&#34;: &#34;PhasedX&#34;}}, {&#34;args&#34;: [[&#34;q&#34;, [0]], [&#34;q&#34;, [1]]], &#34;op&#34;: {&#34;params&#34;: [&#34;0.5&#34;], &#34;type&#34;: &#34;ZZPhase&#34;}}, {&#34;args&#34;: [[&#34;q&#34;, [0]]], &#34;op&#34;: {&#34;params&#34;: [&#34;0.169248357953946&#34;, &#34;3.16924835795395&#34;], &#34;type&#34;: &#34;PhasedX&#34;}}, {&#34;args&#34;: [[&#34;q&#34;, [1]]], &#34;op&#34;: {&#34;params&#34;: [&#34;1&#34;, &#34;1.3394486562971&#34;], &#34;type&#34;: &#34;PhasedX&#34;}}, {&#34;args&#34;: [[&#34;q&#34;, [0]], [&#34;c&#34;, [0]]], &#34;op&#34;: {&#34;type&#34;: &#34;Measure&#34;}}, {&#34;args&#34;: [[&#34;q&#34;, [1]], [&#34;q&#34;, [2]]], &#34;op&#34;: {&#34;params&#34;: [&#34;0.5&#34;], &#34;type&#34;: &#34;ZZPhase&#34;}}, {&#34;args&#34;: [[&#34;q&#34;, [1]]], &#34;op&#34;: {&#34;params&#34;: [&#34;0.669724328148549&#34;, &#34;2.00917298444565&#34;], &#34;type&#34;: &#34;PhasedX&#34;}}, {&#34;args&#34;: [[&#34;q&#34;, [2]]], &#34;op&#34;: {&#34;params&#34;: [&#34;1&#34;, &#34;-1.07605422563672&#34;], &#34;type&#34;: &#34;PhasedX&#34;}}, {&#34;args&#34;: [[&#34;q&#34;, [1]], [&#34;c&#34;, [1]]], &#34;op&#34;: {&#34;type&#34;: &#34;Measure&#34;}}, {&#34;args&#34;: [[&#34;q&#34;, [2]], [&#34;q&#34;, [3]]], &#34;op&#34;: {&#34;params&#34;: [&#34;0.5&#34;], &#34;type&#34;: &#34;ZZPhase&#34;}}, {&#34;args&#34;: [[&#34;q&#34;, [2]]], &#34;op&#34;: {&#34;params&#34;: [&#34;0.46197288718164&#34;, &#34;-0.61408133845508&#34;], &#34;type&#34;: &#34;PhasedX&#34;}}, {&#34;args&#34;: [[&#34;q&#34;, [3]]], &#34;op&#34;: {&#34;params&#34;: [&#34;1&#34;, &#34;-1.26030555315328&#34;], &#34;type&#34;: &#34;PhasedX&#34;}}, {&#34;args&#34;: [[&#34;q&#34;, [2]], [&#34;c&#34;, [2]]], &#34;op&#34;: {&#34;type&#34;: &#34;Measure&#34;}}, {&#34;args&#34;: [[&#34;q&#34;, [3]], [&#34;q&#34;, [4]]], &#34;op&#34;: {&#34;params&#34;: [&#34;0.5&#34;], &#34;type&#34;: &#34;ZZPhase&#34;}}, {&#34;args&#34;: [[&#34;q&#34;, [3]]], &#34;op&#34;: {&#34;params&#34;: [&#34;0.369847223423358&#34;, &#34;-0.890458329729927&#34;], &#34;type&#34;: &#34;PhasedX&#34;}}, {&#34;args&#34;: [[&#34;q&#34;, [4]]], &#34;op&#34;: {&#34;params&#34;: [&#34;1&#34;, &#34;1.79956357617062&#34;], &#34;type&#34;: &#34;PhasedX&#34;}}, {&#34;args&#34;: [[&#34;q&#34;, [3]], [&#34;c&#34;, [3]]], &#34;op&#34;: {&#34;type&#34;: &#34;Measure&#34;}}, {&#34;args&#34;: [[&#34;q&#34;, [4]], [&#34;q&#34;, [5]]], &#34;op&#34;: {&#34;params&#34;: [&#34;0.5&#34;], &#34;type&#34;: &#34;ZZPhase&#34;}}, {&#34;args&#34;: [[&#34;q&#34;, [4]]], &#34;op&#34;: {&#34;params&#34;: [&#34;0.899781788085312&#34;, &#34;2.69934536425593&#34;], &#34;type&#34;: &#34;PhasedX&#34;}}, {&#34;args&#34;: [[&#34;q&#34;, [5]]], &#34;op&#34;: {&#34;params&#34;: [&#34;1&#34;, &#34;1.36794868234128&#34;], &#34;type&#34;: &#34;PhasedX&#34;}}, {&#34;args&#34;: [[&#34;q&#34;, [4]], [&#34;c&#34;, [4]]], &#34;op&#34;: {&#34;type&#34;: &#34;Measure&#34;}}, {&#34;args&#34;: [[&#34;q&#34;, [5]], [&#34;q&#34;, [6]]], &#34;op&#34;: {&#34;params&#34;: [&#34;0.5&#34;], &#34;type&#34;: &#34;ZZPhase&#34;}}, {&#34;args&#34;: [[&#34;q&#34;, [5]]], &#34;op&#34;: {&#34;params&#34;: [&#34;0.683974341170641&#34;, &#34;2.05192302351192&#34;], &#34;type&#34;: &#34;PhasedX&#34;}}, {&#34;args&#34;: [[&#34;q&#34;, [6]]], &#34;op&#34;: {&#34;params&#34;: [&#34;1&#34;, &#34;1.02102937605185&#34;], &#34;type&#34;: &#34;PhasedX&#34;}}, {&#34;args&#34;: [[&#34;q&#34;, [5]], [&#34;c&#34;, [5]]], &#34;op&#34;: {&#34;type&#34;: &#34;Measure&#34;}}, {&#34;args&#34;: [[&#34;q&#34;, [6]], [&#34;q&#34;, [7]]], &#34;op&#34;: {&#34;params&#34;: [&#34;0.5&#34;], &#34;type&#34;: &#34;ZZPhase&#34;}}, {&#34;args&#34;: [[&#34;q&#34;, [6]]], &#34;op&#34;: {&#34;params&#34;: [&#34;0.510514688025925&#34;, &#34;1.53154406407777&#34;], &#34;type&#34;: &#34;PhasedX&#34;}}, {&#34;args&#34;: [[&#34;q&#34;, [7]]], &#34;op&#34;: {&#34;params&#34;: [&#34;1&#34;, &#34;-1.85615641648354&#34;], &#34;type&#34;: &#34;PhasedX&#34;}}, {&#34;args&#34;: [[&#34;q&#34;, [6]], [&#34;c&#34;, [6]]], &#34;op&#34;: {&#34;type&#34;: &#34;Measure&#34;}}, {&#34;args&#34;: [[&#34;q&#34;, [7]], [&#34;q&#34;, [8]]], &#34;op&#34;: {&#34;params&#34;: [&#34;0.5&#34;], &#34;type&#34;: &#34;ZZPhase&#34;}}, {&#34;args&#34;: [[&#34;q&#34;, [7]]], &#34;op&#34;: {&#34;params&#34;: [&#34;0.0719217917582284&#34;, &#34;-1.78423462472531&#34;], &#34;type&#34;: &#34;PhasedX&#34;}}, {&#34;args&#34;: [[&#34;q&#34;, [8]]], &#34;op&#34;: {&#34;params&#34;: [&#34;1&#34;, &#34;-0.261631786540415&#34;], &#34;type&#34;: &#34;PhasedX&#34;}}, {&#34;args&#34;: [[&#34;q&#34;, [7]], [&#34;c&#34;, [7]]], &#34;op&#34;: {&#34;type&#34;: &#34;Measure&#34;}}, {&#34;args&#34;: [[&#34;q&#34;, [8]], [&#34;q&#34;, [9]]], &#34;op&#34;: {&#34;params&#34;: [&#34;0.5&#34;], &#34;type&#34;: &#34;ZZPhase&#34;}}, {&#34;args&#34;: [[&#34;q&#34;, [8]]], &#34;op&#34;: {&#34;params&#34;: [&#34;0.369184106729792&#34;, &#34;0.107552320189376&#34;], &#34;type&#34;: &#34;PhasedX&#34;}}, {&#34;args&#34;: [[&#34;q&#34;, [9]]], &#34;op&#34;: {&#34;params&#34;: [&#34;0.898493496932636&#34;, &#34;-1.10150650306736&#34;], &#34;type&#34;: &#34;PhasedX&#34;}}, {&#34;args&#34;: [[&#34;q&#34;, [8]], [&#34;c&#34;, [8]]], &#34;op&#34;: {&#34;type&#34;: &#34;Measure&#34;}}, {&#34;args&#34;: [[&#34;q&#34;, [9]], [&#34;c&#34;, [9]]], &#34;op&#34;: {&#34;type&#34;: &#34;Measure&#34;}}], &#34;created_qubits&#34;: [], &#34;discarded_qubits&#34;: [], &#34;implicit_permutation&#34;: [[[&#34;q&#34;, [0]], [&#34;q&#34;, [0]]], [[&#34;q&#34;, [1]], [&#34;q&#34;, [1]]], [[&#34;q&#34;, [2]], [&#34;q&#34;, [2]]], [[&#34;q&#34;, [3]], [&#34;q&#34;, [3]]], [[&#34;q&#34;, [4]], [&#34;q&#34;, [4]]], [[&#34;q&#34;, [5]], [&#34;q&#34;, [5]]], [[&#34;q&#34;, [6]], [&#34;q&#34;, [6]]], [[&#34;q&#34;, [7]], [&#34;q&#34;, [7]]], [[&#34;q&#34;, [8]], [&#34;q&#34;, [8]]], [[&#34;q&#34;, [9]], [&#34;q&#34;, [9]]]], &#34;name&#34;: &#34;first-circuit-QuantinuumBackend-final&#34;, &#34;phase&#34;: &#34;0.0&#34;, &#34;qubits&#34;: [[&#34;q&#34;, [0]], [&#34;q&#34;, [1]], [&#34;q&#34;, [2]], [&#34;q&#34;, [3]], [&#34;q&#34;, [4]], [&#34;q&#34;, [5]], [&#34;q&#34;, [6]], [&#34;q&#34;, [7]], [&#34;q&#34;, [8]], [&#34;q&#34;, [9]]]}&lt;/div&gt;\n",
       "        &lt;/div&gt;\n",
       "        &lt;circuit-display-container\n",
       "                :circuit-element-str=&#34;&#39;#circuit-json-to-display&#39;&#34;\n",
       "                :init-render-options=&#34;initRenderOptions&#34;\n",
       "        &gt;&lt;/circuit-display-container&gt;\n",
       "    &lt;/div&gt;\n",
       "    &lt;script type=&#34;application/javascript&#34;&gt;\n",
       "      const circuitRendererUid = &#34;48d68797-c43c-4cb4-8dea-49b8c85b18e0&#34;;\n",
       "      const displayOptions = JSON.parse(&#39;{}&#39;);\n",
       "\n",
       "      // Script to initialise the circuit renderer app\n",
       "\n",
       "const { createApp } = Vue;\n",
       "const circuitDisplayContainer = window[&#34;pytket-circuit-renderer&#34;].default;\n",
       "// Init variables to be shared between circuit display instances\n",
       "if (typeof window.pytketCircuitDisplays === &#34;undefined&#34;) {\n",
       "    window.pytketCircuitDisplays = {};\n",
       "}\n",
       "// Create the root Vue component\n",
       "const app = createApp({\n",
       "    delimiters: [&#39;[[#&#39;, &#39;#]]&#39;],\n",
       "    components: { circuitDisplayContainer },\n",
       "    data () {\n",
       "      return {\n",
       "        initRenderOptions: displayOptions,\n",
       "      }\n",
       "    }\n",
       "})\n",
       "app.config.unwrapInjectedRef = true;\n",
       "app.mount(&#34;#circuit-display-vue-container-&#34;+circuitRendererUid);\n",
       "window.pytketCircuitDisplays[circuitRendererUid] = app;\n",
       "    &lt;/script&gt;\n",
       "\n",
       "\n",
       "\n",
       "&lt;/body&gt;\n",
       "&lt;/html&gt;\n",
       "\"\n",
       "            width=\"100%\" height=\"100%\"\n",
       "            style=\"border: none; outline: none; overflow: auto\"></iframe>\n",
       "</div>\n",
       "\n"
      ],
      "text/plain": [
       "<IPython.core.display.HTML object>"
      ]
     },
     "metadata": {},
     "output_type": "display_data"
    }
   ],
   "source": [
    "from pytket.circuit.display import render_circuit_jupyter\n",
    "\n",
    "ref_output_circuit = ref_compile_result.get_output()\n",
    "render_circuit_jupyter(ref_output_circuit.download_circuit())"
   ]
  },
  {
   "cell_type": "markdown",
   "metadata": {},
   "source": [
    "<div align=\"center\"> &copy; 2024 by Quantinuum. All Rights Reserved. </div>"
   ]
  }
 ],
 "metadata": {
  "kernelspec": {
   "display_name": "Python 3 (ipykernel)",
   "language": "python",
   "name": "python3"
  },
  "language_info": {
   "codemirror_mode": {
    "name": "ipython",
    "version": 3
   },
   "file_extension": ".py",
   "mimetype": "text/x-python",
   "name": "python",
   "nbconvert_exporter": "python",
   "pygments_lexer": "ipython3",
   "version": "3.10.14"
  },
  "nbTranslate": {
   "displayLangs": [
    "en"
   ],
   "hotkey": "alt-t",
   "langInMainMenu": true,
   "sourceLang": "en",
   "targetLang": "ja",
   "useGoogleTranslate": true
  },
  "vscode": {
   "interpreter": {
    "hash": "cd8cfd705af72e04cb3bc0d60ec13b2d7720b549ff7aac6c696e231d9ba7bafb"
   }
  }
 },
 "nbformat": 4,
 "nbformat_minor": 2
}
