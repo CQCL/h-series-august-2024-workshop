{
 "cells": [
  {
   "cell_type": "markdown",
   "metadata": {},
   "source": [
    "<div style=\"text-align: center;\"><br>\n",
    "<img src=\"https://assets-global.website-files.com/62b9d45fb3f64842a96c9686/62d84db4aeb2f6552f3a2f78_Quantinuum%20Logo__horizontal%20blue.svg\" width=\"200\" height=\"200\" /></div>"
   ]
  },
  {
   "cell_type": "markdown",
   "metadata": {},
   "source": [
    "# H-Series Emulators"
   ]
  },
  {
   "cell_type": "markdown",
   "metadata": {},
   "source": [
    "An emulator can be used to get an idea of what a quantum device will output for a given quantum circuit. This enables circuit debugging and optimization before running on a physical machine. Emulators differ from simulators in that they model the physical and noise model of the device whereas simulators may model noise parameters, but not physical parameters. \n",
    "\n",
    "The Quantinuum emulators run on a physical noise model of the Quantinuum H-Series devices. There are various noise/error parameters modeled. For detailed information on the noise model, see the emulator data sheets on the [System Model H1](#https://www.quantinuum.com/products/h1) or [System Model H2](#https://www.quantinuum.com/products/h2) pages. There are cloud emulators and local emulators available. \n",
    "\n",
    "* **State vector Emulator**: The default mode of all emulators. The emulator will compute the state vector of the circuit and estimate the measurement distribution from that state vector. (option: `state-vector`)\n",
    "* **Stabilizer Emulator:** Use of the emulator for circuits involving only Clifford operations. This is only available on cloud emulators (option: `stabilizer`)\n",
    "* **Nexus-hosted Emulators:** 20-qubit instances of H-Series emulators are hosted in Nexus. The `H1-Emulator` and `H2-Emulator` targets enable `state-vector` and `stabilizer` emulation whilst including the physical noise model of the Quantinuum device. Emulator targets ending with `LE` enable noiseless (`state-vector`) emulation, which means that only shot-noise is included in the job result.\n",
    "* **Noise Model Customization:** Experiment with the noise parameters in the emulator. There is no guarantee that results achieved by changing these parameters will represent outputs from the actual quantum computer represented. This is not available for emulator targets ending in `LE`."
   ]
  },
  {
   "cell_type": "markdown",
   "metadata": {},
   "source": [
    "<div style=\"text-align: center;\">\n",
    "    <img src=\"figures/emulator_fig1.png\" width=\"800\">\n",
    "</div>"
   ]
  },
  {
   "cell_type": "markdown",
   "metadata": {},
   "source": [
    "**Contents**\n",
    "\n",
    "* [Emulator Availability and Usage](#Emulator-Availability-and-Usage)\n",
    "* [Basic Usage](#Basic-Usage)\n",
    "* [State vector and Stabilizer Emulation](#State-vector-and-Stabilizer-Emulation)\n",
    "* [Noiseless Emulation](#Noiseless-Emulation)\n",
    "* [Noise Model Customization](#Noise-Model-Customization)\n",
    "* [Use Case: Noise Model Analysis](#Use-Case:-Noise-Model-Analysis)"
   ]
  },
  {
   "cell_type": "markdown",
   "metadata": {},
   "source": [
    "## Emulator Availability and Usage"
   ]
  },
  {
   "cell_type": "markdown",
   "metadata": {},
   "source": [
    "All H-Series devices have <font color=\"#688195\">cloud emulators</font> (suffix `E`) and <font color=\"#883A5E\">local emulators</font> (suffix `LE`). The Emulator targets with suffix `LE` are hosted on nexus. In addition, a nexus-hosted instance of the cloud emulators (suffix `E`) are available, but with the total number of qubits capped at 20-qubits.\n",
    "\n",
    "Users can access <font color=\"#688195\">cloud emulators</font> with their Quantinuum credentials over the cloud via the Fair Queue. These emulators are hosted on Quantinuum's infrastructure, consume HQCs upon usage, are available 24/7, and replicate H-Series device and noise characteristics unless the user utilizes the noise model options. <font color=\"#688195\">Cloud emulators</font> are accessible via `pytket-quantinuum`. \n",
    "\n",
    "User can also access <font color=\"#883A5E\">nexus-hosted emulators</font>. Local emulators do not consume HQCs and only provide noiseless emulation modeling physical characteristics like transport, but not noise. Only `state-vector` simulation is available for <font color=\"#883A5E\">local emulators</font>. The user does not need to submit jobs to a queue. <font color=\"#883A5E\">Local emulators</font> are accessible via `pytket-pecos` and `pytket-quantinuum`. \n",
    "\n",
    "For smaller noiseless emulations involving less than 16 qubits, it is recommended to use the <font color=\"#883A5E\">local emulators</font>. For larger emulations, or emulations using a noise model, <font color=\"#688195\">cloud emulators</font> is recommended.\n",
    "\n",
    "Targets:\n",
    "* <font color=\"#688195\">H1-1E</font>\n",
    "* <font color=\"#883A5E\">H1-1LE</font>\n",
    "* <font color=\"#688195\">H2-1E</font>\n",
    "* <font color=\"#883A5E\">H2-1LE</font>"
   ]
  },
  {
   "cell_type": "markdown",
   "metadata": {},
   "source": [
    "All emulators provide the following features:\n",
    "* Usage of arbitrary-angle two-qubit gates as well as other native H-Series gates\n",
    "* All-to-all connectivity\n",
    "* Mid-circuit measurements and reset (MCMR) and qubit reuse\n",
    "* Identical number of qubits to the corresponding device (i.e. `H2-1E` and `H2-1LE` both have 32 qubits maximum) for `state-vector` simulation.\n",
    "\n",
    "Cloud emulators provide the following features:\n",
    "* Job Batching (run all jobs by a user in succession)\n",
    "* A noise model replicating device noise characteristics\n",
    "* `state-vector` and `stabilizer` simulators. `State-vector` simulators have up to 32 qubits. `Stabilizer` simulator has up to 1000 qubits.\n",
    "\n",
    "Cloud emulators can only be accessed via the Fair Queue. Queue time is dependent on HQC accumulation and user- and group-priorities within their organization. Emulator run-time is dependent on the number of qubits and number of operations in the job. Noisy emulations are slower than noiseless emulations.\n",
    "\n",
    "Jobs submitted to the cloud emulator with a high shot count are automatically *chunked* into multiple partitions with fewer shots. This enables an incremental distribution of emulator resources."
   ]
  },
  {
   "cell_type": "markdown",
   "metadata": {},
   "source": [
    "<div style=\"text-align: center;\">\n",
    "    <img src=\"figures/emulator_fig2.png\" width=800 />\n",
    "</div>"
   ]
  },
  {
   "cell_type": "markdown",
   "metadata": {},
   "source": [
    "## Basic Usage"
   ]
  },
  {
   "cell_type": "markdown",
   "metadata": {},
   "source": [
    "In the cell below, a `QuantinuumBackend` is constructed with the `device_name` argument specified as the H1-1 emulator (`H1-1E`). The `QuantinuumBackend` instance will be used to:\n",
    "\n",
    "* **Compile** the circuit to satisfy the gate set predicate for the emulator using the instance `get_compiled_circuit` method.\n",
    "* **Cost** the circuit to identify HQC consumption for emulation using the instance `cost` method.\n",
    "* **Submit** the circuit for emulation via `process_circuit`.\n",
    "* **Check job status** for the submitted circuit with `circuit_status`.\n",
    "* **Retrieve** job result after emulation with `get_result`.\n",
    "\n",
    "This workflow is identical for both Quantum Processing Unit (QPU) usage and emulator usage.\n",
    "\n",
    "**This workflow is the default (and simplest) for the H-Series emulators. In most cases, we recommend users use this workflow since it will mimic device performance.**"
   ]
  },
  {
   "cell_type": "code",
   "execution_count": 1,
   "metadata": {},
   "outputs": [
    {
     "data": {
      "text/plain": [
       "<Token var=<ContextVar name='qnexus_project' default=None at 0x00000147538EF470> at 0x0000014709140F00>"
      ]
     },
     "execution_count": 1,
     "metadata": {},
     "output_type": "execute_result"
    }
   ],
   "source": [
    "import qnexus\n",
    "\n",
    "project = qnexus.project.get_only(name_like=\"Emulator-Demonstration\")\n",
    "qnexus.context.set_active_project(project)"
   ]
  },
  {
   "cell_type": "code",
   "execution_count": null,
   "metadata": {},
   "outputs": [],
   "source": [
    "config = qnexus.QuantinuumConfig(device_name=\"H1-1E\")"
   ]
  },
  {
   "cell_type": "markdown",
   "metadata": {},
   "source": [
    "The 4-qubit circuit below contains the following features:\n",
    "\n",
    "* Native arbitrary-angle two-qubit gate (`OpType.ZZPhase`)\n",
    "* Native arbitrary-angle one-qubit gate (`OpType.PhasedX`)\n",
    "* MCMR (mid-circuit measurement with reset)\n",
    "* Classically-controlled `OpType.X` operation"
   ]
  },
  {
   "cell_type": "code",
   "execution_count": null,
   "metadata": {},
   "outputs": [],
   "source": [
    "from pytket.circuit import Circuit\n",
    "from pytket.circuit.display import render_circuit_jupyter\n",
    "\n",
    "circuit = Circuit(4, 1)\n",
    "for i, j in zip(circuit.qubits[:-1], circuit.qubits[1:]):\n",
    "    circuit.ZZPhase(0.1, i, j)\n",
    "\n",
    "# Add MCMR\n",
    "circuit.Measure(circuit.qubits[-1], circuit.bits[0])\n",
    "circuit.Reset(circuit.qubits[-1])\n",
    "circuit.X(circuit.qubits[-1], condition=circuit.bits[0])\n",
    "\n",
    "for i, j in zip(circuit.qubits[:-1], circuit.qubits[1:]):\n",
    "    circuit.ZZPhase(0.1, i, j)\n",
    "for i in circuit.qubits:\n",
    "    circuit.PhasedX(0.06, -0.09, i)\n",
    "\n",
    "## Add Final Measurement\n",
    "circuit.measure_all()\n",
    "\n",
    "render_circuit_jupyter(circuit)"
   ]
  },
  {
   "cell_type": "code",
   "execution_count": null,
   "metadata": {},
   "outputs": [],
   "source": [
    "ref_circuit = qnexus.circuit.upload(circuit=circuit, name=\"circuit-1\")"
   ]
  },
  {
   "cell_type": "markdown",
   "metadata": {},
   "source": [
    "Compiling the circuit with `QuantinuumBackend`, replaces the classically-controlled `OpType.X` operation with an `OpType.Phase` node and a classically-controlled `Optype.PhasedX`."
   ]
  },
  {
   "cell_type": "code",
   "execution_count": null,
   "metadata": {},
   "outputs": [],
   "source": [
    "ref_compile_job = qnexus.compile(\n",
    "    circuits=[ref_circuit],\n",
    "    name=f\"compile-simple-circuit\",\n",
    "    target=config,\n",
    "    optimisation_level=2\n",
    ")"
   ]
  },
  {
   "cell_type": "code",
   "execution_count": null,
   "metadata": {},
   "outputs": [],
   "source": [
    "qnexus.job.wait_for(ref_compile_job)\n",
    "job_result = qnexus.job.results(ref_compile_job)[0]\n",
    "compilation_result_ref = job_result.get_output()"
   ]
  },
  {
   "cell_type": "code",
   "execution_count": null,
   "metadata": {},
   "outputs": [],
   "source": [
    "compiled_circuit = compilation_result_ref.download_circuit()"
   ]
  },
  {
   "cell_type": "code",
   "execution_count": null,
   "metadata": {},
   "outputs": [],
   "source": [
    "from pytket.circuit.display import render_circuit_jupyter\n",
    "\n",
    "render_circuit_jupyter(compiled_circuit)"
   ]
  },
  {
   "cell_type": "markdown",
   "metadata": {},
   "source": [
    "`process_circuit` is used to submit the compiled circuit for emulation."
   ]
  },
  {
   "cell_type": "code",
   "execution_count": null,
   "metadata": {},
   "outputs": [],
   "source": [
    "execution_ref = qnexus.execute(\n",
    "    circuits=[compilation_result_ref], # <- Don't have to download, can just use the reference.\n",
    "    name=f\"execution-simple-circuit\",\n",
    "    target=config,\n",
    "    n_shots=[100],\n",
    ")"
   ]
  },
  {
   "cell_type": "code",
   "execution_count": null,
   "metadata": {},
   "outputs": [],
   "source": [
    "qnexus.job.wait_for(execution_ref)"
   ]
  },
  {
   "cell_type": "code",
   "execution_count": null,
   "metadata": {},
   "outputs": [],
   "source": [
    "qnexus.job.status(execution_ref)"
   ]
  },
  {
   "cell_type": "code",
   "execution_count": null,
   "metadata": {},
   "outputs": [],
   "source": [
    "result = qnexus.job.results(execution_ref)[0].download_result()"
   ]
  },
  {
   "cell_type": "code",
   "execution_count": null,
   "metadata": {},
   "outputs": [],
   "source": [
    "result.get_distribution()"
   ]
  },
  {
   "cell_type": "markdown",
   "metadata": {},
   "source": [
    "## State vector and Stabilizer Emulator"
   ]
  },
  {
   "cell_type": "markdown",
   "metadata": {},
   "source": [
    "The following options can only be used when using the cloud H-Series emulators (ending with **E** and not **LE**).\n",
    "\n",
    "There are two types of simulation methods, `state-vector` and `stabilizer`. These can be specified during construction of `QuantinuumBackend` via the `simulator` keyword argument. The default value is `state-vector`."
   ]
  },
  {
   "cell_type": "markdown",
   "metadata": {},
   "source": [
    "<div style=\"text-align: center;\">\n",
    "    <img src=\"figures/emulator_fig3.png\" width=\"1200\">\n",
    "</div>"
   ]
  },
  {
   "cell_type": "markdown",
   "metadata": {},
   "source": [
    "If the quantum operations are all Clifford gates, it is faster to use the `stabilizer` emulator. The `stabilizer` emulator is requested in the setup of the `QuantinuumBackend` with the `simulator` input option. This option can only be used with cloud H-Series emulators."
   ]
  },
  {
   "cell_type": "code",
   "execution_count": null,
   "metadata": {},
   "outputs": [],
   "source": [
    "machine = \"H1-1E\"\n",
    "stabilizer_config = qnexus.QuantinuumConfig(device_name=machine, simulator=\"stabilizer\")"
   ]
  },
  {
   "cell_type": "code",
   "execution_count": null,
   "metadata": {},
   "outputs": [],
   "source": [
    "# print(machine, \"status:\", stabilizer_backend.device_state(device_name=machine))\n",
    "# print(\"Simulation type:\", stabilizer_backend.simulator_type)"
   ]
  },
  {
   "cell_type": "code",
   "execution_count": null,
   "metadata": {},
   "outputs": [],
   "source": [
    "circuit2 = Circuit(2).CX(0, 1)"
   ]
  },
  {
   "cell_type": "code",
   "execution_count": null,
   "metadata": {},
   "outputs": [],
   "source": [
    "ref2 = qnexus.circuit.upload(circuit2, name=\"circuit2\")"
   ]
  },
  {
   "cell_type": "code",
   "execution_count": null,
   "metadata": {},
   "outputs": [],
   "source": [
    "ref_compile2 = qnexus.compile(\n",
    "    circuits=[ref2],\n",
    "    name=f\"compile-simple-circuit\",\n",
    "    target=config,\n",
    "    optimisation_level=2\n",
    ")"
   ]
  },
  {
   "cell_type": "code",
   "execution_count": null,
   "metadata": {},
   "outputs": [],
   "source": [
    "qnexus.job.wait_for(ref_compile_job);\n",
    "compiled_circuit = job_result.get_output().download_circuit()"
   ]
  },
  {
   "cell_type": "code",
   "execution_count": null,
   "metadata": {},
   "outputs": [],
   "source": [
    "from pytket.circuit.display import render_circuit_jupyter\n",
    "\n",
    "render_circuit_jupyter(compiled_circuit)"
   ]
  },
  {
   "cell_type": "markdown",
   "metadata": {},
   "source": [
    "## Noiseless Emulation"
   ]
  },
  {
   "cell_type": "markdown",
   "metadata": {},
   "source": [
    "### Enabling and Disabling the Error Model with the Cloud Emulators"
   ]
  },
  {
   "cell_type": "markdown",
   "metadata": {},
   "source": [
    "Quantinuum emulators may be run with or without the physical device's noise model. The default is the emulator runs with the physical noise model turned on. The physical noise model can be turned off by setting `noisy_simulation=False`. Noiseless simulation can be used with both `state-vector` and `stabilizer` emulator."
   ]
  },
  {
   "cell_type": "code",
   "execution_count": 5,
   "metadata": {},
   "outputs": [],
   "source": [
    "import qnexus\n",
    "\n",
    "config_noiseless_1 = qnexus.QuantinuumConfig(device_name=\"H1-1E\", noisy_simulation=False)"
   ]
  },
  {
   "cell_type": "code",
   "execution_count": 6,
   "metadata": {},
   "outputs": [],
   "source": [
    "from pytket.circuit import Circuit\n",
    "\n",
    "circuit = Circuit(4)\n",
    "for _ in range(2):\n",
    "    for i in circuit.qubits:\n",
    "        circuit.PhasedX(-0.1, -0.2, i)\n",
    "circuit.measure_all();"
   ]
  },
  {
   "cell_type": "code",
   "execution_count": 7,
   "metadata": {},
   "outputs": [],
   "source": [
    "ref_noiseless = qnexus.circuit.upload(circuit, name=\"noiseless-circuit-1\")"
   ]
  },
  {
   "cell_type": "code",
   "execution_count": 11,
   "metadata": {},
   "outputs": [],
   "source": [
    "ref_noiseless_compile = qnexus.compile(\n",
    "    circuits=[ref_noiseless],\n",
    "    name=f\"compile-job-noiseless-circuit-1\",\n",
    "    target=config_noiseless_1,\n",
    "    optimisation_level=2\n",
    ")"
   ]
  },
  {
   "cell_type": "code",
   "execution_count": 12,
   "metadata": {},
   "outputs": [],
   "source": [
    "qnexus.job.wait_for(ref_noiseless_compile);\n",
    "compiled_circuit_ref = qnexus.job.results(ref_noiseless_compile)[0].get_output()"
   ]
  },
  {
   "cell_type": "markdown",
   "metadata": {},
   "source": [
    "The `process_circuit` method can be used with the keyword argument `noisy_simulation`."
   ]
  },
  {
   "cell_type": "code",
   "execution_count": 18,
   "metadata": {},
   "outputs": [],
   "source": [
    "n_shots = 100\n",
    "ref_execute = qnexus.execute(\n",
    "    circuits=[compiled_circuit_ref],\n",
    "    n_shots=[n_shots],\n",
    "    noisy_simulator=False,\n",
    "    target=config_noiseless_1,\n",
    "    name=\"execution-job-noiseless-circuit-1a\"\n",
    ")"
   ]
  },
  {
   "cell_type": "code",
   "execution_count": 19,
   "metadata": {},
   "outputs": [],
   "source": [
    "qnexus.job.wait_for(ref_execute);\n",
    "result = qnexus.job.results(ref_execute)[0].download_result()"
   ]
  },
  {
   "cell_type": "markdown",
   "metadata": {},
   "source": [
    "### Noiseless Emulation using H-Series with LE suffix"
   ]
  },
  {
   "cell_type": "markdown",
   "metadata": {},
   "source": [
    "There are two emulator targets with the **LE** suffix hosted in nexus. Each target corresponds to a H-Series device.\n",
    "\n",
    "* `H1-1LE`\n",
    "* `H2-1LE`"
   ]
  },
  {
   "cell_type": "code",
   "execution_count": null,
   "metadata": {},
   "outputs": [],
   "source": [
    "config_le_emulator = qnexus.QuantinuumConfig(device_name=\"H1-1LE\")"
   ]
  },
  {
   "cell_type": "markdown",
   "metadata": {},
   "source": [
    "## Noise Model Customization"
   ]
  },
  {
   "cell_type": "markdown",
   "metadata": {},
   "source": [
    "The emulator runs with default error parameters that represent a noise environment similar to the physical devices. For detailed information on the noise model, see the product data sheet for the device you want to emulate on the [System Model H1](#https://www.quantinuum.com/products/h1) or [System Model H2](#https://www.quantinuum.com/products/h2) page. \n",
    "\n",
    "The `error-params` option can be used to customize the noise model. This can be supplied either to: \n",
    "\n",
    "* the `QuantinuumBackend` constructor with arguments `error-model` or `error-params` within the `options` keyword argument\n",
    "* the `process_circuit` or `process_circuits` method with the keyword argument `options`\n",
    "\n",
    "Within the `options` argument, the two options below are provided for controlling the noise model:\n",
    "* `error-model`: A boolean to specify if the error model should be enabled (`True`) or disabled (`False`). By default the error model is enabled.\n",
    "* `error-params`: If the error model is enabled, a nested dictionary is provided containing the error model parameters to tweak.\n",
    "\n",
    "In this section, examples are given for experimenting with the noise and error parameters of the emulators. These are advanced options and not recommended to start with when doing initial experiments. As mentioned above, there is no guarantee that results achieved changing these parameters will represent outputs from the actual quantum computer represented.\n",
    "\n",
    "**Note:** All the noise parameters are used together any time a simulation is run. If only some of the parameters are specified, the rest of the parameters are used at their default settings. The parameters to override are specified with the options parameter."
   ]
  },
  {
   "cell_type": "markdown",
   "metadata": {},
   "source": [
    "The example below specifies the options with the `QuantinuumBackend` constructor."
   ]
  },
  {
   "cell_type": "code",
   "execution_count": null,
   "metadata": {},
   "outputs": [],
   "source": [
    "options = {\"error-model\": True, \"error-params\": {\"quadratic_dephasing_rate\": 0.1}}\n",
    "\n",
    "qntm_backend_custom = QuantinuumBackend(device_name=\"H2-1E\", options=options)"
   ]
  },
  {
   "cell_type": "markdown",
   "metadata": {},
   "source": [
    "The example below instead utilizes the error model options within the `process_circuit` function."
   ]
  },
  {
   "cell_type": "code",
   "execution_count": null,
   "metadata": {},
   "outputs": [],
   "source": [
    "backend = QuantinuumBackend(device_name=\"H1-1E\", options={\"error-params\": {\"p1\": 1e-5}})\n",
    "\n",
    "handle = backend.process_circuit(\n",
    "    compiled_circuit, n_shots=10, options={\"error-params\": {\"p2\": 1e-4}}\n",
    ")"
   ]
  },
  {
   "cell_type": "markdown",
   "metadata": {},
   "source": [
    "### Physical Noise"
   ]
  },
  {
   "cell_type": "markdown",
   "metadata": {},
   "source": [
    "See the product data sheet for the device you want to emulate for information on these parameters."
   ]
  },
  {
   "cell_type": "code",
   "execution_count": null,
   "metadata": {},
   "outputs": [],
   "source": [
    "backend = QuantinuumBackend(\n",
    "    device_name=\"H1-1E\",\n",
    "    options={\n",
    "        \"error-params\": {\n",
    "            \"p1\": 4e-5,\n",
    "            \"p2\": 3e-3,\n",
    "            \"p_meas\": 3e-3,\n",
    "            \"p_init\": 4e-5,\n",
    "            \"p_crosstalk_meas\": 1e-5,\n",
    "            \"p_crosstalk_init\": 3e-5,\n",
    "            \"p1_emission_ratio\": 0.15,\n",
    "            \"p2_emission_ratio\": 0.3,\n",
    "        }\n",
    "    },\n",
    ")"
   ]
  },
  {
   "cell_type": "markdown",
   "metadata": {},
   "source": [
    "### Dephasing Noise"
   ]
  },
  {
   "cell_type": "markdown",
   "metadata": {},
   "source": [
    "The noise model includes a memory error for which Pauli-$Z$ is applied. This is often called \"dephasing\" or \"memory\" noise. There are two relationships between the probability of dephasing error and the duration for which qubits are idling or transporting in the trap:\n",
    "\n",
    "1. the probability is quadratically dependent on the duration\n",
    "2. the probability is linearly dependent on the duration\n",
    "\n",
    "For both the `state-vector` and `stabilizer` simulations, linear dephasing is also modeled with Pauli-$Z$ applied with a probability equal to rate, $r$, multiplied by duration, $d$.\n",
    "\n",
    "For `state-vector` simulations, the quadratic noise is modeled in the emulator by default as coherent noise. For this coherent quadratic dephasing noise, the $Rz$ gate is applied with an angle proportional to frequency, $f$, multiplied by duration, $d$. The probability of the $Rz$ gate applying a Pauli-$Z$ operation on a plus state, $| + \\rangle$, is $\\sin( fd/2 )^2$, which is why we call this a form of quadratic dephasing.\n",
    "\n",
    "For the `stabilizer` simulator, by default this quadratic noise is modeled incoherent by applying Pauli-$Z$ with probability $\\sin{(fd)}^2$ to model more closely the quadratic dependency with frequency and time as seen in the coherent model. Note, `stabilizer` simulations can only simulate Clifford and measurement-like gates, so the $Rz$ gate cannot be applied directly. "
   ]
  },
  {
   "cell_type": "markdown",
   "metadata": {},
   "source": [
    "See the product data sheet for the device you want to emulate for information on these parameters."
   ]
  },
  {
   "cell_type": "code",
   "execution_count": null,
   "metadata": {},
   "outputs": [],
   "source": [
    "backend = QuantinuumBackend(\n",
    "    device_name=\"H1-1E\",\n",
    "    options={\n",
    "        \"error-params\": {\n",
    "            \"quadratic_dephasing_rate\": 0.2,\n",
    "            \"linear_dephasing_rate\": 0.3,\n",
    "            \"coherent_to_incoherent_factor\": 2.0,\n",
    "            \"coherent_dephasing\": False,  # False => run the incoherent noise model\n",
    "            \"transport_dephasing\": False,  # False => turn off transport dephasing error\n",
    "            \"idle_dephasing\": False,  # False => turn off idle dephasing error\n",
    "        },\n",
    "    },\n",
    ")"
   ]
  },
  {
   "cell_type": "markdown",
   "metadata": {},
   "source": [
    "### Arbitrary Angle Noise Scaling"
   ]
  },
  {
   "cell_type": "markdown",
   "metadata": {},
   "source": [
    "The System Model H1 systems have a native arbitrary-angle $ZZ$ gate, $RZZ(\\theta)$. For implementation of this gate in the System Model H1 emulator, \n",
    "certain parameters relate to the strength of the asymmetric depolarizing noise. These parameters depend on the angle $\\theta$. This is normalized so \n",
    "that $\\theta=\\pi/2$ gives the two-qubit fault probability (`p2`). The parameters for asymmetric depolarizing noise are fit parameters that fit the \n",
    "noise estimated as the angle, $\\theta$, changes per this equation:"
   ]
  },
  {
   "cell_type": "markdown",
   "metadata": {},
   "source": [
    "The parameters for asymmetric depolarizing noise are fit parameters that fit the noise estimated as the angle, $\\theta$, changes per this equation:"
   ]
  },
  {
   "cell_type": "markdown",
   "metadata": {},
   "source": [
    "\\begin{align}\n",
    "(przz_a (|\\theta|/\\pi)^{przz_{power}} + przz_b) p2; \\quad &\\theta &< 0 \\\\\n",
    "\n",
    "(przz_c (|\\theta|/\\pi)^{przz_{power}} + przz_d) p2; \\quad &\\theta &> 0 \\\\\n",
    "\n",
    "0.5 (przz_b + przz_d); \\quad &\\theta &= 0\n",
    "\\end{align}"
   ]
  },
  {
   "cell_type": "markdown",
   "metadata": {},
   "source": [
    "See the product data sheet for the device you want to emulate for information on these parameters."
   ]
  },
  {
   "cell_type": "code",
   "execution_count": null,
   "metadata": {},
   "outputs": [],
   "source": [
    "backend = QuantinuumBackend(\n",
    "    device_name=\"H1-1E\",\n",
    "    options={\n",
    "        \"error-params\": {\n",
    "            \"przz_a\": 1.09,\n",
    "            \"przz_b\": 0.035,\n",
    "            \"przz_c\": 1.09,\n",
    "            \"przz_d\": 0.035,\n",
    "            \"przz_power\": 1 / 2,\n",
    "        },\n",
    "    },\n",
    ")"
   ]
  },
  {
   "cell_type": "markdown",
   "metadata": {},
   "source": [
    "### Scaling Factors"
   ]
  },
  {
   "cell_type": "markdown",
   "metadata": {},
   "source": [
    "A scaling factor can be applied that multiplies all the default or supplied error parameters by the scaling rate. In this case, a 1 does not change the error rates while 0 makes all the errors have a probability of 0."
   ]
  },
  {
   "cell_type": "markdown",
   "metadata": {},
   "source": [
    "All the error rates can be scaled linearly using the **scale** parameter."
   ]
  },
  {
   "cell_type": "code",
   "execution_count": null,
   "metadata": {},
   "outputs": [],
   "source": [
    "backend = QuantinuumBackend(\n",
    "    device_name=\"H1-1E\",\n",
    "    options={\n",
    "        \"error-params\": {\n",
    "            \"scale\": 0.1,\n",
    "        },\n",
    "    },\n",
    ")"
   ]
  },
  {
   "cell_type": "markdown",
   "metadata": {},
   "source": [
    "See the product data sheet for the device you want to emulate for information on these parameters."
   ]
  },
  {
   "cell_type": "code",
   "execution_count": null,
   "metadata": {},
   "outputs": [],
   "source": [
    "backend = QuantinuumBackend(\n",
    "    device_name=\"H1-1E\",\n",
    "    options={\n",
    "        \"error-params\": {\n",
    "            \"p1_scale\": 0.1,\n",
    "            \"p2_scale\": 0.1,\n",
    "            \"meas_scale\": 0.1,\n",
    "            \"init_scale\": 0.1,\n",
    "            \"memory_scale\": 0.1,\n",
    "            \"emission_scale\": 0.1,\n",
    "            \"crosstalk_scale\": 0.1,\n",
    "            \"leakage_scale\": 0.1,\n",
    "        },\n",
    "    },\n",
    ")"
   ]
  },
  {
   "cell_type": "markdown",
   "metadata": {},
   "source": [
    "## Use Case: Noise Model Analysis"
   ]
  },
  {
   "cell_type": "markdown",
   "metadata": {},
   "source": [
    "The noise model can be configured on the `state-vector` simulator in order to assess performance improvements for a particular use case as certain hardware noise parameters (i.e. the two-qubit gate fidelity improves).\n",
    "\n",
    "This use case looks at the Jensen-Shannon divergence (JSD) as the `p2` noise model value is modified. JSD is a measure of result quality, `0` is the maximal quality and `1` is the worst. A random circuit is submitted to the emulator for 5 different values of `p2`. The JSD can be computed once results are available from the noisy emulation. Emulation results are compared to results from an ideal case, and this is a benchmark for similarity between the two measurement distributions."
   ]
  },
  {
   "cell_type": "markdown",
   "metadata": {},
   "source": [
    "The code cell below generates 5 `p2` values between 0 and 0.1."
   ]
  },
  {
   "cell_type": "code",
   "execution_count": null,
   "metadata": {},
   "outputs": [],
   "source": [
    "import numpy as np\n",
    "\n",
    "p2_list = np.linspace(0, 0.1, num=5, endpoint=True)"
   ]
  },
  {
   "cell_type": "markdown",
   "metadata": {},
   "source": [
    "The code below generates a 10-qubit circuit with 10 repeating sub-blocks. Each sub-block contains `OpType.PhasedX` and `OpType.ZZPhase` operations."
   ]
  },
  {
   "cell_type": "code",
   "execution_count": null,
   "metadata": {},
   "outputs": [],
   "source": [
    "from pytket.circuit import Circuit\n",
    "\n",
    "circuit = Circuit(10)\n",
    "\n",
    "for i in range(10):\n",
    "    for j, qubit in enumerate(circuit.qubits):\n",
    "        a0 = j * 0.05**i\n",
    "        a1 = j * 0.1**i\n",
    "        circuit.PhasedX(a0, a1, qubit)\n",
    "\n",
    "    for j, (q0, q1) in enumerate(zip(circuit.qubits[:-1], circuit.qubits[1:])):\n",
    "        angle = 0.1**i\n",
    "        circuit.ZZPhase(0.1, q0, q1)\n",
    "\n",
    "circuit.measure_all()"
   ]
  },
  {
   "cell_type": "markdown",
   "metadata": {},
   "source": [
    "The local (noiseless) emulator, `H1-1LE`, is used to obtain a distribution of measurement outcomes in the ideal case."
   ]
  },
  {
   "cell_type": "code",
   "execution_count": null,
   "metadata": {},
   "outputs": [],
   "source": [
    "backend_noiseless = QuantinuumBackend(device_name=\"H1-1LE\")"
   ]
  },
  {
   "cell_type": "code",
   "execution_count": null,
   "metadata": {},
   "outputs": [],
   "source": [
    "result_ideal = backend_noiseless.run_circuit(circuit, n_shots=100)"
   ]
  },
  {
   "cell_type": "code",
   "execution_count": null,
   "metadata": {},
   "outputs": [],
   "source": [
    "print(result_ideal.get_distribution())"
   ]
  },
  {
   "cell_type": "markdown",
   "metadata": {},
   "source": [
    "The cloud emulator, `H1-1E`, will be used with the noise model enabled to emulate the circuit defined above. The noise model will be customized by supplying a different `p2` value as a Quantinuum API option upon job submission."
   ]
  },
  {
   "cell_type": "code",
   "execution_count": null,
   "metadata": {},
   "outputs": [],
   "source": [
    "backend_noisy = QuantinuumBackend(\"H1-1E\")"
   ]
  },
  {
   "cell_type": "code",
   "execution_count": null,
   "metadata": {},
   "outputs": [],
   "source": [
    "handles_list = []\n",
    "for p2 in p2_list:\n",
    "    options = {\"error-params\": {\"p2\": p2}}\n",
    "    handle = backend_noisy.process_circuit(circuit, n_shots=100, options=options)\n",
    "    handles_list += [handle]"
   ]
  },
  {
   "cell_type": "code",
   "execution_count": null,
   "metadata": {},
   "outputs": [],
   "source": [
    "results_noisy = backend_noisy.get_results(handles_list)"
   ]
  },
  {
   "cell_type": "markdown",
   "metadata": {},
   "source": [
    "Below, methods are defined to enable computation of the JSD.\n",
    "\n",
    "1. Probabilities are collated and ordered by bitstring for each measurement distribution.\n",
    "2. The JSD is computed for each measurement distribution from the noisy emulator against the ideal measurement distribution."
   ]
  },
  {
   "cell_type": "code",
   "execution_count": null,
   "metadata": {},
   "outputs": [],
   "source": [
    "import itertools\n",
    "\n",
    "from numpy import asarray\n",
    "from numpy.linalg import norm\n",
    "\n",
    "from scipy.stats import entropy\n",
    "\n",
    "from pytket.backends.backendresult import BackendResult\n",
    "\n",
    "\n",
    "def bitstring_ordering(n_bits):\n",
    "    for x in itertools.product(\"01\", repeat=n_bits):\n",
    "        yield \"\".join(x)\n",
    "\n",
    "\n",
    "def collect_probabilities(\n",
    "    result: BackendResult,\n",
    "):\n",
    "    distribution = {\n",
    "        \"\".join([str(b) for b in bitstring]): probability\n",
    "        for bitstring, probability in result.get_distribution().items()\n",
    "    }\n",
    "    probabilities = []\n",
    "    for bitstring in bitstring_ordering(len(result.c_bits)):\n",
    "        probabilities += [distribution.get(bitstring, 0)]\n",
    "    probability_array = asarray(probabilities)\n",
    "    return probability_array / norm(probability_array, ord=1)\n",
    "\n",
    "\n",
    "def compute_jsd(a, b):\n",
    "    c = 0.5 * (a + b)\n",
    "    return 0.5 * (entropy(a, c) + entropy(b, c))"
   ]
  },
  {
   "cell_type": "code",
   "execution_count": null,
   "metadata": {},
   "outputs": [],
   "source": [
    "probs_ideal = collect_probabilities(result_ideal)\n",
    "jsd_list = []\n",
    "\n",
    "for r in results_noisy:\n",
    "    probs_noisy = collect_probabilities(r)\n",
    "    jsd = compute_jsd(probs_noisy, probs_ideal)\n",
    "    jsd_list += [jsd]"
   ]
  },
  {
   "cell_type": "markdown",
   "metadata": {},
   "source": [
    "The JSD is displayed below for each `p2` value. A JSD value of zero means the two distributions are identical. A value of 1 means the distributions have no similarity."
   ]
  },
  {
   "cell_type": "code",
   "execution_count": null,
   "metadata": {},
   "outputs": [],
   "source": [
    "import pandas as pd\n",
    "\n",
    "data = {\"JSD\": jsd_list, \"P2\": p2_list}\n",
    "\n",
    "df = pd.DataFrame(data)"
   ]
  },
  {
   "cell_type": "code",
   "execution_count": null,
   "metadata": {},
   "outputs": [],
   "source": [
    "df"
   ]
  },
  {
   "cell_type": "markdown",
   "metadata": {},
   "source": [
    "The pandas `DataFrame` is supplied to `seaborn` to visualize the data as a line graph."
   ]
  },
  {
   "cell_type": "code",
   "execution_count": null,
   "metadata": {},
   "outputs": [],
   "source": [
    "import seaborn as sns\n",
    "\n",
    "sns.set_theme(font_scale=5)"
   ]
  },
  {
   "cell_type": "code",
   "execution_count": null,
   "metadata": {},
   "outputs": [],
   "source": [
    "ax = sns.catplot(df, x=\"P2\", y=\"JSD\", kind=\"point\", aspect=4, height=20)\n",
    "ax.set_xlabels(\"Probability of Two-Qubit Gate Error\")\n",
    "ax.set_ylabels(\"Jensen-Shannon Divergence\")"
   ]
  },
  {
   "cell_type": "markdown",
   "metadata": {},
   "source": [
    "## Summary"
   ]
  },
  {
   "cell_type": "markdown",
   "metadata": {},
   "source": [
    "H-Series provides emulators for end users to test, verify and optimize the jobs they will eventual submit to the H-Series devices. Two simulation modes exist for H-Series, `state-vector` and `stabilizer`. The simulation type will depend on the end users' use case. The noise model can be disabled, and the a local noiseless emulator is available via `pytket-pecos`. The noise model in the cloud emulator can be configured and customized by submitting options to the Quantinuum API by constructing `QuantinuumBackend` and using the keyword argument, `options`, or by using the instance method, `process_circuit` (`process_circuits`) with the keyword argument `options`.\n",
    "\n",
    "A use case showcases how increasing the `p2` value in the cloud emulator noise model leads to worse JSD estimates."
   ]
  },
  {
   "cell_type": "markdown",
   "metadata": {},
   "source": [
    "<div align=\"center\"> &copy; 2024 by Quantinuum. All Rights Reserved. </div>"
   ]
  }
 ],
 "metadata": {
  "kernelspec": {
   "display_name": "Python 3 (ipykernel)",
   "language": "python",
   "name": "python3"
  },
  "language_info": {
   "codemirror_mode": {
    "name": "ipython",
    "version": 3
   },
   "file_extension": ".py",
   "mimetype": "text/x-python",
   "name": "python",
   "nbconvert_exporter": "python",
   "pygments_lexer": "ipython3",
   "version": "3.10.14"
  },
  "nbTranslate": {
   "displayLangs": [
    "*"
   ],
   "hotkey": "alt-t",
   "langInMainMenu": true,
   "sourceLang": "en",
   "targetLang": "fr",
   "useGoogleTranslate": true
  }
 },
 "nbformat": 4,
 "nbformat_minor": 2
}
